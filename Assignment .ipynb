{
 "cells": [
  {
   "cell_type": "code",
   "execution_count": 1,
   "id": "943ca929",
   "metadata": {},
   "outputs": [],
   "source": [
    "import pandas as pd\n",
    "import matplotlib.pyplot as plt\n",
    "import numpy as np\n",
    "\n",
    "import seaborn as sns\n",
    "import matplotlib as mpl\n",
    "import matplotlib.pyplot as plt\n",
    "\n",
    "from sklearn.model_selection import train_test_split\n",
    "from sklearn.model_selection import cross_val_score\n",
    "from sklearn.model_selection import GridSearchCV"
   ]
  },
  {
   "cell_type": "code",
   "execution_count": 2,
   "id": "ab1517ba",
   "metadata": {},
   "outputs": [],
   "source": [
    "#Understanding"
   ]
  },
  {
   "cell_type": "code",
   "execution_count": 3,
   "id": "63a236d9",
   "metadata": {},
   "outputs": [
    {
     "data": {
      "text/html": [
       "<div>\n",
       "<style scoped>\n",
       "    .dataframe tbody tr th:only-of-type {\n",
       "        vertical-align: middle;\n",
       "    }\n",
       "\n",
       "    .dataframe tbody tr th {\n",
       "        vertical-align: top;\n",
       "    }\n",
       "\n",
       "    .dataframe thead th {\n",
       "        text-align: right;\n",
       "    }\n",
       "</style>\n",
       "<table border=\"1\" class=\"dataframe\">\n",
       "  <thead>\n",
       "    <tr style=\"text-align: right;\">\n",
       "      <th></th>\n",
       "      <th>murkiness.level</th>\n",
       "      <th>avg.dolphins.seen.per.day</th>\n",
       "      <th>previous.week.fishing</th>\n",
       "      <th>diversity.of.prey</th>\n",
       "      <th>seals.seen</th>\n",
       "      <th>water.temp</th>\n",
       "      <th>people.previous.day</th>\n",
       "      <th>seagull.density</th>\n",
       "      <th>common.surfboard.colour</th>\n",
       "      <th>overcast.weather</th>\n",
       "      <th>time.of.day</th>\n",
       "      <th>shark</th>\n",
       "      <th>ID</th>\n",
       "    </tr>\n",
       "  </thead>\n",
       "  <tbody>\n",
       "    <tr>\n",
       "      <th>0</th>\n",
       "      <td>13.11</td>\n",
       "      <td>3.421591</td>\n",
       "      <td>0.59601</td>\n",
       "      <td>34.66</td>\n",
       "      <td>6.718047</td>\n",
       "      <td>3.335635</td>\n",
       "      <td>81.0</td>\n",
       "      <td>0.69860</td>\n",
       "      <td>red</td>\n",
       "      <td>0</td>\n",
       "      <td>afternoon</td>\n",
       "      <td>1</td>\n",
       "      <td>245</td>\n",
       "    </tr>\n",
       "    <tr>\n",
       "      <th>1</th>\n",
       "      <td>11.99</td>\n",
       "      <td>2.874611</td>\n",
       "      <td>0.54274</td>\n",
       "      <td>19.39</td>\n",
       "      <td>6.242029</td>\n",
       "      <td>3.127024</td>\n",
       "      <td>49.0</td>\n",
       "      <td>0.62020</td>\n",
       "      <td>orange</td>\n",
       "      <td>0</td>\n",
       "      <td>morning</td>\n",
       "      <td>0</td>\n",
       "      <td>40</td>\n",
       "    </tr>\n",
       "    <tr>\n",
       "      <th>2</th>\n",
       "      <td>12.91</td>\n",
       "      <td>2.827774</td>\n",
       "      <td>0.52377</td>\n",
       "      <td>15.75</td>\n",
       "      <td>6.397929</td>\n",
       "      <td>3.052446</td>\n",
       "      <td>46.0</td>\n",
       "      <td>0.58235</td>\n",
       "      <td>red</td>\n",
       "      <td>0</td>\n",
       "      <td>night</td>\n",
       "      <td>0</td>\n",
       "      <td>424</td>\n",
       "    </tr>\n",
       "    <tr>\n",
       "      <th>3</th>\n",
       "      <td>12.06</td>\n",
       "      <td>2.772961</td>\n",
       "      <td>0.51963</td>\n",
       "      <td>13.25</td>\n",
       "      <td>6.278146</td>\n",
       "      <td>3.114239</td>\n",
       "      <td>43.0</td>\n",
       "      <td>0.57025</td>\n",
       "      <td>red</td>\n",
       "      <td>0</td>\n",
       "      <td>afternoon</td>\n",
       "      <td>1</td>\n",
       "      <td>17</td>\n",
       "    </tr>\n",
       "    <tr>\n",
       "      <th>4</th>\n",
       "      <td>15.06</td>\n",
       "      <td>3.271684</td>\n",
       "      <td>0.58815</td>\n",
       "      <td>47.14</td>\n",
       "      <td>6.932448</td>\n",
       "      <td>3.214831</td>\n",
       "      <td>83.0</td>\n",
       "      <td>0.71150</td>\n",
       "      <td>red</td>\n",
       "      <td>0</td>\n",
       "      <td>morning</td>\n",
       "      <td>1</td>\n",
       "      <td>283</td>\n",
       "    </tr>\n",
       "  </tbody>\n",
       "</table>\n",
       "</div>"
      ],
      "text/plain": [
       "   murkiness.level  avg.dolphins.seen.per.day  previous.week.fishing  \\\n",
       "0            13.11                   3.421591                0.59601   \n",
       "1            11.99                   2.874611                0.54274   \n",
       "2            12.91                   2.827774                0.52377   \n",
       "3            12.06                   2.772961                0.51963   \n",
       "4            15.06                   3.271684                0.58815   \n",
       "\n",
       "   diversity.of.prey  seals.seen  water.temp  people.previous.day  \\\n",
       "0              34.66    6.718047    3.335635                 81.0   \n",
       "1              19.39    6.242029    3.127024                 49.0   \n",
       "2              15.75    6.397929    3.052446                 46.0   \n",
       "3              13.25    6.278146    3.114239                 43.0   \n",
       "4              47.14    6.932448    3.214831                 83.0   \n",
       "\n",
       "   seagull.density common.surfboard.colour  overcast.weather time.of.day  \\\n",
       "0          0.69860                     red                 0   afternoon   \n",
       "1          0.62020                  orange                 0     morning   \n",
       "2          0.58235                     red                 0       night   \n",
       "3          0.57025                     red                 0   afternoon   \n",
       "4          0.71150                     red                 0     morning   \n",
       "\n",
       "   shark   ID  \n",
       "0      1  245  \n",
       "1      0   40  \n",
       "2      0  424  \n",
       "3      1   17  \n",
       "4      1  283  "
      ]
     },
     "execution_count": 3,
     "metadata": {},
     "output_type": "execute_result"
    }
   ],
   "source": [
    "df=pd.read_csv('sharks.csv')\n",
    "df.head()"
   ]
  },
  {
   "cell_type": "code",
   "execution_count": 4,
   "id": "3dadf276",
   "metadata": {},
   "outputs": [
    {
     "data": {
      "text/plain": [
       "(456, 13)"
      ]
     },
     "execution_count": 4,
     "metadata": {},
     "output_type": "execute_result"
    }
   ],
   "source": [
    "df.shape"
   ]
  },
  {
   "cell_type": "code",
   "execution_count": 5,
   "id": "618d3f4c",
   "metadata": {},
   "outputs": [
    {
     "data": {
      "text/plain": [
       "murkiness.level              float64\n",
       "avg.dolphins.seen.per.day    float64\n",
       "previous.week.fishing        float64\n",
       "diversity.of.prey            float64\n",
       "seals.seen                   float64\n",
       "water.temp                   float64\n",
       "people.previous.day          float64\n",
       "seagull.density              float64\n",
       "common.surfboard.colour       object\n",
       "overcast.weather               int64\n",
       "time.of.day                   object\n",
       "shark                          int64\n",
       "ID                             int64\n",
       "dtype: object"
      ]
     },
     "execution_count": 5,
     "metadata": {},
     "output_type": "execute_result"
    }
   ],
   "source": [
    "df.dtypes"
   ]
  },
  {
   "cell_type": "code",
   "execution_count": 6,
   "id": "b6d76882",
   "metadata": {},
   "outputs": [
    {
     "name": "stdout",
     "output_type": "stream",
     "text": [
      "<class 'pandas.core.frame.DataFrame'>\n",
      "RangeIndex: 456 entries, 0 to 455\n",
      "Data columns (total 13 columns):\n",
      " #   Column                     Non-Null Count  Dtype  \n",
      "---  ------                     --------------  -----  \n",
      " 0   murkiness.level            456 non-null    float64\n",
      " 1   avg.dolphins.seen.per.day  455 non-null    float64\n",
      " 2   previous.week.fishing      455 non-null    float64\n",
      " 3   diversity.of.prey          455 non-null    float64\n",
      " 4   seals.seen                 456 non-null    float64\n",
      " 5   water.temp                 455 non-null    float64\n",
      " 6   people.previous.day        453 non-null    float64\n",
      " 7   seagull.density            456 non-null    float64\n",
      " 8   common.surfboard.colour    456 non-null    object \n",
      " 9   overcast.weather           456 non-null    int64  \n",
      " 10  time.of.day                456 non-null    object \n",
      " 11  shark                      456 non-null    int64  \n",
      " 12  ID                         456 non-null    int64  \n",
      "dtypes: float64(8), int64(3), object(2)\n",
      "memory usage: 46.4+ KB\n"
     ]
    }
   ],
   "source": [
    "df.info()"
   ]
  },
  {
   "cell_type": "code",
   "execution_count": 7,
   "id": "82f0b200",
   "metadata": {},
   "outputs": [
    {
     "data": {
      "text/html": [
       "<div>\n",
       "<style scoped>\n",
       "    .dataframe tbody tr th:only-of-type {\n",
       "        vertical-align: middle;\n",
       "    }\n",
       "\n",
       "    .dataframe tbody tr th {\n",
       "        vertical-align: top;\n",
       "    }\n",
       "\n",
       "    .dataframe thead th {\n",
       "        text-align: right;\n",
       "    }\n",
       "</style>\n",
       "<table border=\"1\" class=\"dataframe\">\n",
       "  <thead>\n",
       "    <tr style=\"text-align: right;\">\n",
       "      <th></th>\n",
       "      <th>murkiness.level</th>\n",
       "      <th>avg.dolphins.seen.per.day</th>\n",
       "      <th>previous.week.fishing</th>\n",
       "      <th>diversity.of.prey</th>\n",
       "      <th>seals.seen</th>\n",
       "      <th>water.temp</th>\n",
       "      <th>people.previous.day</th>\n",
       "      <th>seagull.density</th>\n",
       "      <th>common.surfboard.colour</th>\n",
       "      <th>overcast.weather</th>\n",
       "      <th>time.of.day</th>\n",
       "      <th>shark</th>\n",
       "      <th>ID</th>\n",
       "    </tr>\n",
       "  </thead>\n",
       "  <tbody>\n",
       "    <tr>\n",
       "      <th>count</th>\n",
       "      <td>456.000000</td>\n",
       "      <td>455.000000</td>\n",
       "      <td>455.000000</td>\n",
       "      <td>455.000000</td>\n",
       "      <td>456.000000</td>\n",
       "      <td>455.000000</td>\n",
       "      <td>453.000000</td>\n",
       "      <td>456.000000</td>\n",
       "      <td>456</td>\n",
       "      <td>456.000000</td>\n",
       "      <td>456</td>\n",
       "      <td>456.000000</td>\n",
       "      <td>456.00000</td>\n",
       "    </tr>\n",
       "    <tr>\n",
       "      <th>unique</th>\n",
       "      <td>NaN</td>\n",
       "      <td>NaN</td>\n",
       "      <td>NaN</td>\n",
       "      <td>NaN</td>\n",
       "      <td>NaN</td>\n",
       "      <td>NaN</td>\n",
       "      <td>NaN</td>\n",
       "      <td>NaN</td>\n",
       "      <td>4</td>\n",
       "      <td>NaN</td>\n",
       "      <td>4</td>\n",
       "      <td>NaN</td>\n",
       "      <td>NaN</td>\n",
       "    </tr>\n",
       "    <tr>\n",
       "      <th>top</th>\n",
       "      <td>NaN</td>\n",
       "      <td>NaN</td>\n",
       "      <td>NaN</td>\n",
       "      <td>NaN</td>\n",
       "      <td>NaN</td>\n",
       "      <td>NaN</td>\n",
       "      <td>NaN</td>\n",
       "      <td>NaN</td>\n",
       "      <td>red</td>\n",
       "      <td>NaN</td>\n",
       "      <td>night</td>\n",
       "      <td>NaN</td>\n",
       "      <td>NaN</td>\n",
       "    </tr>\n",
       "    <tr>\n",
       "      <th>freq</th>\n",
       "      <td>NaN</td>\n",
       "      <td>NaN</td>\n",
       "      <td>NaN</td>\n",
       "      <td>NaN</td>\n",
       "      <td>NaN</td>\n",
       "      <td>NaN</td>\n",
       "      <td>NaN</td>\n",
       "      <td>NaN</td>\n",
       "      <td>216</td>\n",
       "      <td>NaN</td>\n",
       "      <td>172</td>\n",
       "      <td>NaN</td>\n",
       "      <td>NaN</td>\n",
       "    </tr>\n",
       "    <tr>\n",
       "      <th>mean</th>\n",
       "      <td>22.857656</td>\n",
       "      <td>3.010865</td>\n",
       "      <td>0.549480</td>\n",
       "      <td>41.681767</td>\n",
       "      <td>6.623185</td>\n",
       "      <td>3.132817</td>\n",
       "      <td>61.249448</td>\n",
       "      <td>0.613652</td>\n",
       "      <td>NaN</td>\n",
       "      <td>0.004386</td>\n",
       "      <td>NaN</td>\n",
       "      <td>0.368421</td>\n",
       "      <td>228.50000</td>\n",
       "    </tr>\n",
       "    <tr>\n",
       "      <th>std</th>\n",
       "      <td>130.770478</td>\n",
       "      <td>0.317467</td>\n",
       "      <td>0.040428</td>\n",
       "      <td>49.059173</td>\n",
       "      <td>0.563944</td>\n",
       "      <td>0.081336</td>\n",
       "      <td>27.191830</td>\n",
       "      <td>0.067054</td>\n",
       "      <td>NaN</td>\n",
       "      <td>0.066154</td>\n",
       "      <td>NaN</td>\n",
       "      <td>0.482906</td>\n",
       "      <td>131.78012</td>\n",
       "    </tr>\n",
       "    <tr>\n",
       "      <th>min</th>\n",
       "      <td>6.981000</td>\n",
       "      <td>2.718282</td>\n",
       "      <td>0.500000</td>\n",
       "      <td>6.802000</td>\n",
       "      <td>5.221436</td>\n",
       "      <td>2.926373</td>\n",
       "      <td>34.000000</td>\n",
       "      <td>0.500000</td>\n",
       "      <td>NaN</td>\n",
       "      <td>0.000000</td>\n",
       "      <td>NaN</td>\n",
       "      <td>0.000000</td>\n",
       "      <td>1.00000</td>\n",
       "    </tr>\n",
       "    <tr>\n",
       "      <th>25%</th>\n",
       "      <td>11.697500</td>\n",
       "      <td>2.796446</td>\n",
       "      <td>0.519315</td>\n",
       "      <td>17.740000</td>\n",
       "      <td>6.244118</td>\n",
       "      <td>3.076468</td>\n",
       "      <td>45.000000</td>\n",
       "      <td>0.562885</td>\n",
       "      <td>NaN</td>\n",
       "      <td>0.000000</td>\n",
       "      <td>NaN</td>\n",
       "      <td>0.000000</td>\n",
       "      <td>114.75000</td>\n",
       "    </tr>\n",
       "    <tr>\n",
       "      <th>50%</th>\n",
       "      <td>13.275000</td>\n",
       "      <td>2.888364</td>\n",
       "      <td>0.533340</td>\n",
       "      <td>24.600000</td>\n",
       "      <td>6.516562</td>\n",
       "      <td>3.127381</td>\n",
       "      <td>53.000000</td>\n",
       "      <td>0.598840</td>\n",
       "      <td>NaN</td>\n",
       "      <td>0.000000</td>\n",
       "      <td>NaN</td>\n",
       "      <td>0.000000</td>\n",
       "      <td>228.50000</td>\n",
       "    </tr>\n",
       "    <tr>\n",
       "      <th>75%</th>\n",
       "      <td>16.040000</td>\n",
       "      <td>3.123109</td>\n",
       "      <td>0.576595</td>\n",
       "      <td>45.410000</td>\n",
       "      <td>6.989334</td>\n",
       "      <td>3.181002</td>\n",
       "      <td>69.000000</td>\n",
       "      <td>0.661300</td>\n",
       "      <td>NaN</td>\n",
       "      <td>0.000000</td>\n",
       "      <td>NaN</td>\n",
       "      <td>1.000000</td>\n",
       "      <td>342.25000</td>\n",
       "    </tr>\n",
       "    <tr>\n",
       "      <th>max</th>\n",
       "      <td>1990.200000</td>\n",
       "      <td>4.629025</td>\n",
       "      <td>0.701200</td>\n",
       "      <td>542.200000</td>\n",
       "      <td>8.355615</td>\n",
       "      <td>3.487973</td>\n",
       "      <td>267.000000</td>\n",
       "      <td>0.791000</td>\n",
       "      <td>NaN</td>\n",
       "      <td>1.000000</td>\n",
       "      <td>NaN</td>\n",
       "      <td>1.000000</td>\n",
       "      <td>456.00000</td>\n",
       "    </tr>\n",
       "  </tbody>\n",
       "</table>\n",
       "</div>"
      ],
      "text/plain": [
       "        murkiness.level  avg.dolphins.seen.per.day  previous.week.fishing  \\\n",
       "count        456.000000                 455.000000             455.000000   \n",
       "unique              NaN                        NaN                    NaN   \n",
       "top                 NaN                        NaN                    NaN   \n",
       "freq                NaN                        NaN                    NaN   \n",
       "mean          22.857656                   3.010865               0.549480   \n",
       "std          130.770478                   0.317467               0.040428   \n",
       "min            6.981000                   2.718282               0.500000   \n",
       "25%           11.697500                   2.796446               0.519315   \n",
       "50%           13.275000                   2.888364               0.533340   \n",
       "75%           16.040000                   3.123109               0.576595   \n",
       "max         1990.200000                   4.629025               0.701200   \n",
       "\n",
       "        diversity.of.prey  seals.seen  water.temp  people.previous.day  \\\n",
       "count          455.000000  456.000000  455.000000           453.000000   \n",
       "unique                NaN         NaN         NaN                  NaN   \n",
       "top                   NaN         NaN         NaN                  NaN   \n",
       "freq                  NaN         NaN         NaN                  NaN   \n",
       "mean            41.681767    6.623185    3.132817            61.249448   \n",
       "std             49.059173    0.563944    0.081336            27.191830   \n",
       "min              6.802000    5.221436    2.926373            34.000000   \n",
       "25%             17.740000    6.244118    3.076468            45.000000   \n",
       "50%             24.600000    6.516562    3.127381            53.000000   \n",
       "75%             45.410000    6.989334    3.181002            69.000000   \n",
       "max            542.200000    8.355615    3.487973           267.000000   \n",
       "\n",
       "        seagull.density common.surfboard.colour  overcast.weather time.of.day  \\\n",
       "count        456.000000                     456        456.000000         456   \n",
       "unique              NaN                       4               NaN           4   \n",
       "top                 NaN                     red               NaN       night   \n",
       "freq                NaN                     216               NaN         172   \n",
       "mean           0.613652                     NaN          0.004386         NaN   \n",
       "std            0.067054                     NaN          0.066154         NaN   \n",
       "min            0.500000                     NaN          0.000000         NaN   \n",
       "25%            0.562885                     NaN          0.000000         NaN   \n",
       "50%            0.598840                     NaN          0.000000         NaN   \n",
       "75%            0.661300                     NaN          0.000000         NaN   \n",
       "max            0.791000                     NaN          1.000000         NaN   \n",
       "\n",
       "             shark         ID  \n",
       "count   456.000000  456.00000  \n",
       "unique         NaN        NaN  \n",
       "top            NaN        NaN  \n",
       "freq           NaN        NaN  \n",
       "mean      0.368421  228.50000  \n",
       "std       0.482906  131.78012  \n",
       "min       0.000000    1.00000  \n",
       "25%       0.000000  114.75000  \n",
       "50%       0.000000  228.50000  \n",
       "75%       1.000000  342.25000  \n",
       "max       1.000000  456.00000  "
      ]
     },
     "execution_count": 7,
     "metadata": {},
     "output_type": "execute_result"
    }
   ],
   "source": [
    "df.describe(include=\"all\")"
   ]
  },
  {
   "cell_type": "code",
   "execution_count": 8,
   "id": "a6faa974",
   "metadata": {},
   "outputs": [
    {
     "data": {
      "text/plain": [
       "array([[<AxesSubplot:title={'center':'murkiness.level'}>,\n",
       "        <AxesSubplot:title={'center':'avg.dolphins.seen.per.day'}>,\n",
       "        <AxesSubplot:title={'center':'previous.week.fishing'}>],\n",
       "       [<AxesSubplot:title={'center':'diversity.of.prey'}>,\n",
       "        <AxesSubplot:title={'center':'seals.seen'}>,\n",
       "        <AxesSubplot:title={'center':'water.temp'}>],\n",
       "       [<AxesSubplot:title={'center':'people.previous.day'}>,\n",
       "        <AxesSubplot:title={'center':'seagull.density'}>,\n",
       "        <AxesSubplot:title={'center':'overcast.weather'}>],\n",
       "       [<AxesSubplot:title={'center':'shark'}>,\n",
       "        <AxesSubplot:title={'center':'ID'}>, <AxesSubplot:>]],\n",
       "      dtype=object)"
      ]
     },
     "execution_count": 8,
     "metadata": {},
     "output_type": "execute_result"
    },
    {
     "data": {
      "image/png": "[encoded data removed]",
      "text/plain": [
       "<Figure size 1080x1440 with 12 Axes>"
      ]
     },
     "metadata": {
      "needs_background": "light"
     },
     "output_type": "display_data"
    }
   ],
   "source": [
    "df.hist(figsize = (15,20))"
   ]
  },
  {
   "cell_type": "code",
   "execution_count": 9,
   "id": "747af112",
   "metadata": {},
   "outputs": [
    {
     "data": {
      "text/plain": [
       "143    542.2\n",
       "161    525.6\n",
       "125    233.0\n",
       "256    224.1\n",
       "118    199.7\n",
       "Name: diversity.of.prey, dtype: float64"
      ]
     },
     "execution_count": 9,
     "metadata": {},
     "output_type": "execute_result"
    }
   ],
   "source": [
    "df['diversity.of.prey'].nlargest()"
   ]
  },
  {
   "cell_type": "code",
   "execution_count": 10,
   "id": "802e545d",
   "metadata": {},
   "outputs": [
    {
     "data": {
      "text/plain": [
       "people.previous.day          3\n",
       "avg.dolphins.seen.per.day    1\n",
       "previous.week.fishing        1\n",
       "diversity.of.prey            1\n",
       "water.temp                   1\n",
       "murkiness.level              0\n",
       "seals.seen                   0\n",
       "seagull.density              0\n",
       "common.surfboard.colour      0\n",
       "overcast.weather             0\n",
       "time.of.day                  0\n",
       "shark                        0\n",
       "ID                           0\n",
       "dtype: int64"
      ]
     },
     "execution_count": 10,
     "metadata": {},
     "output_type": "execute_result"
    }
   ],
   "source": [
    "df.isnull().sum().sort_values(ascending=False)"
   ]
  },
  {
   "cell_type": "code",
   "execution_count": 11,
   "id": "496d78b2",
   "metadata": {},
   "outputs": [
    {
     "name": "stdout",
     "output_type": "stream",
     "text": [
      "common.surfboard.colour\n"
     ]
    },
    {
     "data": {
      "image/png": "[encoded data removed]",
      "text/plain": [
       "<Figure size 432x288 with 1 Axes>"
      ]
     },
     "metadata": {
      "needs_background": "light"
     },
     "output_type": "display_data"
    },
    {
     "name": "stdout",
     "output_type": "stream",
     "text": [
      "time.of.day\n"
     ]
    },
    {
     "data": {
      "image/png": "[encoded data removed]",
      "text/plain": [
       "<Figure size 432x288 with 1 Axes>"
      ]
     },
     "metadata": {
      "needs_background": "light"
     },
     "output_type": "display_data"
    }
   ],
   "source": [
    "for col in df.select_dtypes(include=object).columns: \n",
    "        print(col)\n",
    "        df[col].value_counts(dropna=False).plot(kind='bar')\n",
    "        plt.show()"
   ]
  },
  {
   "cell_type": "code",
   "execution_count": 12,
   "id": "4b05efaf",
   "metadata": {},
   "outputs": [
    {
     "data": {
      "text/html": [
       "<div>\n",
       "<style scoped>\n",
       "    .dataframe tbody tr th:only-of-type {\n",
       "        vertical-align: middle;\n",
       "    }\n",
       "\n",
       "    .dataframe tbody tr th {\n",
       "        vertical-align: top;\n",
       "    }\n",
       "\n",
       "    .dataframe thead th {\n",
       "        text-align: right;\n",
       "    }\n",
       "</style>\n",
       "<table border=\"1\" class=\"dataframe\">\n",
       "  <thead>\n",
       "    <tr style=\"text-align: right;\">\n",
       "      <th></th>\n",
       "      <th>murkiness.level</th>\n",
       "      <th>avg.dolphins.seen.per.day</th>\n",
       "      <th>previous.week.fishing</th>\n",
       "      <th>diversity.of.prey</th>\n",
       "      <th>seals.seen</th>\n",
       "      <th>water.temp</th>\n",
       "      <th>people.previous.day</th>\n",
       "      <th>seagull.density</th>\n",
       "      <th>common.surfboard.colour</th>\n",
       "      <th>time.of.day</th>\n",
       "      <th>shark</th>\n",
       "    </tr>\n",
       "  </thead>\n",
       "  <tbody>\n",
       "    <tr>\n",
       "      <th>0</th>\n",
       "      <td>13.110</td>\n",
       "      <td>3.421591</td>\n",
       "      <td>0.59601</td>\n",
       "      <td>34.66</td>\n",
       "      <td>6.718047</td>\n",
       "      <td>3.335635</td>\n",
       "      <td>81.0</td>\n",
       "      <td>0.69860</td>\n",
       "      <td>red</td>\n",
       "      <td>afternoon</td>\n",
       "      <td>1</td>\n",
       "    </tr>\n",
       "    <tr>\n",
       "      <th>1</th>\n",
       "      <td>11.990</td>\n",
       "      <td>2.874611</td>\n",
       "      <td>0.54274</td>\n",
       "      <td>19.39</td>\n",
       "      <td>6.242029</td>\n",
       "      <td>3.127024</td>\n",
       "      <td>49.0</td>\n",
       "      <td>0.62020</td>\n",
       "      <td>orange</td>\n",
       "      <td>morning</td>\n",
       "      <td>0</td>\n",
       "    </tr>\n",
       "    <tr>\n",
       "      <th>2</th>\n",
       "      <td>12.910</td>\n",
       "      <td>2.827774</td>\n",
       "      <td>0.52377</td>\n",
       "      <td>15.75</td>\n",
       "      <td>6.397929</td>\n",
       "      <td>3.052446</td>\n",
       "      <td>46.0</td>\n",
       "      <td>0.58235</td>\n",
       "      <td>red</td>\n",
       "      <td>night</td>\n",
       "      <td>0</td>\n",
       "    </tr>\n",
       "    <tr>\n",
       "      <th>3</th>\n",
       "      <td>12.060</td>\n",
       "      <td>2.772961</td>\n",
       "      <td>0.51963</td>\n",
       "      <td>13.25</td>\n",
       "      <td>6.278146</td>\n",
       "      <td>3.114239</td>\n",
       "      <td>43.0</td>\n",
       "      <td>0.57025</td>\n",
       "      <td>red</td>\n",
       "      <td>afternoon</td>\n",
       "      <td>1</td>\n",
       "    </tr>\n",
       "    <tr>\n",
       "      <th>4</th>\n",
       "      <td>15.060</td>\n",
       "      <td>3.271684</td>\n",
       "      <td>0.58815</td>\n",
       "      <td>47.14</td>\n",
       "      <td>6.932448</td>\n",
       "      <td>3.214831</td>\n",
       "      <td>83.0</td>\n",
       "      <td>0.71150</td>\n",
       "      <td>red</td>\n",
       "      <td>morning</td>\n",
       "      <td>1</td>\n",
       "    </tr>\n",
       "    <tr>\n",
       "      <th>...</th>\n",
       "      <td>...</td>\n",
       "      <td>...</td>\n",
       "      <td>...</td>\n",
       "      <td>...</td>\n",
       "      <td>...</td>\n",
       "      <td>...</td>\n",
       "      <td>...</td>\n",
       "      <td>...</td>\n",
       "      <td>...</td>\n",
       "      <td>...</td>\n",
       "      <td>...</td>\n",
       "    </tr>\n",
       "    <tr>\n",
       "      <th>451</th>\n",
       "      <td>11.340</td>\n",
       "      <td>2.865292</td>\n",
       "      <td>0.51899</td>\n",
       "      <td>16.41</td>\n",
       "      <td>6.250168</td>\n",
       "      <td>3.271296</td>\n",
       "      <td>54.0</td>\n",
       "      <td>0.58278</td>\n",
       "      <td>yellow</td>\n",
       "      <td>afternoon</td>\n",
       "      <td>0</td>\n",
       "    </tr>\n",
       "    <tr>\n",
       "      <th>452</th>\n",
       "      <td>13.700</td>\n",
       "      <td>2.847752</td>\n",
       "      <td>0.53160</td>\n",
       "      <td>20.64</td>\n",
       "      <td>6.531606</td>\n",
       "      <td>3.087569</td>\n",
       "      <td>44.0</td>\n",
       "      <td>0.59077</td>\n",
       "      <td>yellow</td>\n",
       "      <td>night</td>\n",
       "      <td>0</td>\n",
       "    </tr>\n",
       "    <tr>\n",
       "      <th>453</th>\n",
       "      <td>9.720</td>\n",
       "      <td>2.718282</td>\n",
       "      <td>0.50000</td>\n",
       "      <td>21.69</td>\n",
       "      <td>5.716370</td>\n",
       "      <td>2.926373</td>\n",
       "      <td>34.0</td>\n",
       "      <td>0.50000</td>\n",
       "      <td>yellow</td>\n",
       "      <td>afternoon</td>\n",
       "      <td>0</td>\n",
       "    </tr>\n",
       "    <tr>\n",
       "      <th>454</th>\n",
       "      <td>13.170</td>\n",
       "      <td>2.962686</td>\n",
       "      <td>0.55252</td>\n",
       "      <td>14.49</td>\n",
       "      <td>6.607596</td>\n",
       "      <td>3.196904</td>\n",
       "      <td>78.0</td>\n",
       "      <td>0.66070</td>\n",
       "      <td>red</td>\n",
       "      <td>night</td>\n",
       "      <td>1</td>\n",
       "    </tr>\n",
       "    <tr>\n",
       "      <th>455</th>\n",
       "      <td>9.847</td>\n",
       "      <td>2.783123</td>\n",
       "      <td>0.52416</td>\n",
       "      <td>15.24</td>\n",
       "      <td>5.930918</td>\n",
       "      <td>3.165976</td>\n",
       "      <td>54.0</td>\n",
       "      <td>0.56528</td>\n",
       "      <td>red</td>\n",
       "      <td>night</td>\n",
       "      <td>0</td>\n",
       "    </tr>\n",
       "  </tbody>\n",
       "</table>\n",
       "<p>456 rows × 11 columns</p>\n",
       "</div>"
      ],
      "text/plain": [
       "     murkiness.level  avg.dolphins.seen.per.day  previous.week.fishing  \\\n",
       "0             13.110                   3.421591                0.59601   \n",
       "1             11.990                   2.874611                0.54274   \n",
       "2             12.910                   2.827774                0.52377   \n",
       "3             12.060                   2.772961                0.51963   \n",
       "4             15.060                   3.271684                0.58815   \n",
       "..               ...                        ...                    ...   \n",
       "451           11.340                   2.865292                0.51899   \n",
       "452           13.700                   2.847752                0.53160   \n",
       "453            9.720                   2.718282                0.50000   \n",
       "454           13.170                   2.962686                0.55252   \n",
       "455            9.847                   2.783123                0.52416   \n",
       "\n",
       "     diversity.of.prey  seals.seen  water.temp  people.previous.day  \\\n",
       "0                34.66    6.718047    3.335635                 81.0   \n",
       "1                19.39    6.242029    3.127024                 49.0   \n",
       "2                15.75    6.397929    3.052446                 46.0   \n",
       "3                13.25    6.278146    3.114239                 43.0   \n",
       "4                47.14    6.932448    3.214831                 83.0   \n",
       "..                 ...         ...         ...                  ...   \n",
       "451              16.41    6.250168    3.271296                 54.0   \n",
       "452              20.64    6.531606    3.087569                 44.0   \n",
       "453              21.69    5.716370    2.926373                 34.0   \n",
       "454              14.49    6.607596    3.196904                 78.0   \n",
       "455              15.24    5.930918    3.165976                 54.0   \n",
       "\n",
       "     seagull.density common.surfboard.colour time.of.day  shark  \n",
       "0            0.69860                     red   afternoon      1  \n",
       "1            0.62020                  orange     morning      0  \n",
       "2            0.58235                     red       night      0  \n",
       "3            0.57025                     red   afternoon      1  \n",
       "4            0.71150                     red     morning      1  \n",
       "..               ...                     ...         ...    ...  \n",
       "451          0.58278                  yellow   afternoon      0  \n",
       "452          0.59077                  yellow       night      0  \n",
       "453          0.50000                  yellow   afternoon      0  \n",
       "454          0.66070                     red       night      1  \n",
       "455          0.56528                     red       night      0  \n",
       "\n",
       "[456 rows x 11 columns]"
      ]
     },
     "execution_count": 12,
     "metadata": {},
     "output_type": "execute_result"
    }
   ],
   "source": [
    "# define the list\n",
    "selected_features = ['murkiness.level','avg.dolphins.seen.per.day','previous.week.fishing','diversity.of.prey','seals.seen','water.temp','people.previous.day','seagull.density','common.surfboard.colour','time.of.day','shark']\n",
    "\n",
    "df_cleaned=df[selected_features]\n",
    "df_cleaned"
   ]
  },
  {
   "cell_type": "code",
   "execution_count": 13,
   "id": "edfd169c",
   "metadata": {},
   "outputs": [],
   "source": [
    "#Preparation"
   ]
  },
  {
   "cell_type": "code",
   "execution_count": 14,
   "id": "e8814fdf",
   "metadata": {},
   "outputs": [],
   "source": [
    "df_copy = df_cleaned.copy()\n",
    "df_train = df_copy.sample(frac=0.80, random_state=0)\n",
    "df_test = df_copy.drop(df_train.index)"
   ]
  },
  {
   "cell_type": "code",
   "execution_count": 15,
   "id": "b02d9410",
   "metadata": {},
   "outputs": [
    {
     "data": {
      "text/html": [
       "<div>\n",
       "<style scoped>\n",
       "    .dataframe tbody tr th:only-of-type {\n",
       "        vertical-align: middle;\n",
       "    }\n",
       "\n",
       "    .dataframe tbody tr th {\n",
       "        vertical-align: top;\n",
       "    }\n",
       "\n",
       "    .dataframe thead th {\n",
       "        text-align: right;\n",
       "    }\n",
       "</style>\n",
       "<table border=\"1\" class=\"dataframe\">\n",
       "  <thead>\n",
       "    <tr style=\"text-align: right;\">\n",
       "      <th></th>\n",
       "      <th>murkiness.level</th>\n",
       "      <th>avg.dolphins.seen.per.day</th>\n",
       "      <th>previous.week.fishing</th>\n",
       "      <th>diversity.of.prey</th>\n",
       "      <th>seals.seen</th>\n",
       "      <th>water.temp</th>\n",
       "      <th>people.previous.day</th>\n",
       "      <th>seagull.density</th>\n",
       "      <th>common.surfboard.colour</th>\n",
       "      <th>time.of.day</th>\n",
       "      <th>shark</th>\n",
       "    </tr>\n",
       "  </thead>\n",
       "  <tbody>\n",
       "    <tr>\n",
       "      <th>102</th>\n",
       "      <td>13.850</td>\n",
       "      <td>2.757436</td>\n",
       "      <td>0.511410</td>\n",
       "      <td>17.910</td>\n",
       "      <td>6.587412</td>\n",
       "      <td>3.073015</td>\n",
       "      <td>44.0</td>\n",
       "      <td>0.55104</td>\n",
       "      <td>yellow</td>\n",
       "      <td>night</td>\n",
       "      <td>0</td>\n",
       "    </tr>\n",
       "    <tr>\n",
       "      <th>60</th>\n",
       "      <td>11.610</td>\n",
       "      <td>2.925745</td>\n",
       "      <td>0.544970</td>\n",
       "      <td>15.890</td>\n",
       "      <td>6.164787</td>\n",
       "      <td>3.164517</td>\n",
       "      <td>54.0</td>\n",
       "      <td>0.61050</td>\n",
       "      <td>orange</td>\n",
       "      <td>night</td>\n",
       "      <td>0</td>\n",
       "    </tr>\n",
       "    <tr>\n",
       "      <th>278</th>\n",
       "      <td>10.860</td>\n",
       "      <td>2.718282</td>\n",
       "      <td>0.500000</td>\n",
       "      <td>20.670</td>\n",
       "      <td>6.021751</td>\n",
       "      <td>3.020074</td>\n",
       "      <td>38.0</td>\n",
       "      <td>0.50000</td>\n",
       "      <td>orange</td>\n",
       "      <td>night</td>\n",
       "      <td>0</td>\n",
       "    </tr>\n",
       "    <tr>\n",
       "      <th>144</th>\n",
       "      <td>12.450</td>\n",
       "      <td>3.212205</td>\n",
       "      <td>0.548460</td>\n",
       "      <td>30.190</td>\n",
       "      <td>6.364062</td>\n",
       "      <td>3.079236</td>\n",
       "      <td>81.0</td>\n",
       "      <td>0.63420</td>\n",
       "      <td>red</td>\n",
       "      <td>night</td>\n",
       "      <td>0</td>\n",
       "    </tr>\n",
       "    <tr>\n",
       "      <th>179</th>\n",
       "      <td>13.850</td>\n",
       "      <td>2.755256</td>\n",
       "      <td>0.522930</td>\n",
       "      <td>29.630</td>\n",
       "      <td>6.618872</td>\n",
       "      <td>3.059615</td>\n",
       "      <td>42.0</td>\n",
       "      <td>0.55890</td>\n",
       "      <td>red</td>\n",
       "      <td>afternoon</td>\n",
       "      <td>0</td>\n",
       "    </tr>\n",
       "    <tr>\n",
       "      <th>...</th>\n",
       "      <td>...</td>\n",
       "      <td>...</td>\n",
       "      <td>...</td>\n",
       "      <td>...</td>\n",
       "      <td>...</td>\n",
       "      <td>...</td>\n",
       "      <td>...</td>\n",
       "      <td>...</td>\n",
       "      <td>...</td>\n",
       "      <td>...</td>\n",
       "      <td>...</td>\n",
       "    </tr>\n",
       "    <tr>\n",
       "      <th>207</th>\n",
       "      <td>12.680</td>\n",
       "      <td>3.063040</td>\n",
       "      <td>0.568730</td>\n",
       "      <td>36.460</td>\n",
       "      <td>6.789310</td>\n",
       "      <td>3.331221</td>\n",
       "      <td>81.0</td>\n",
       "      <td>0.67160</td>\n",
       "      <td>red</td>\n",
       "      <td>morning</td>\n",
       "      <td>1</td>\n",
       "    </tr>\n",
       "    <tr>\n",
       "      <th>279</th>\n",
       "      <td>9.777</td>\n",
       "      <td>2.841389</td>\n",
       "      <td>0.517780</td>\n",
       "      <td>22.870</td>\n",
       "      <td>5.905362</td>\n",
       "      <td>3.183581</td>\n",
       "      <td>49.0</td>\n",
       "      <td>0.55334</td>\n",
       "      <td>red</td>\n",
       "      <td>afternoon</td>\n",
       "      <td>0</td>\n",
       "    </tr>\n",
       "    <tr>\n",
       "      <th>227</th>\n",
       "      <td>12.180</td>\n",
       "      <td>2.749154</td>\n",
       "      <td>0.505051</td>\n",
       "      <td>15.820</td>\n",
       "      <td>6.240471</td>\n",
       "      <td>3.020074</td>\n",
       "      <td>36.0</td>\n",
       "      <td>0.51852</td>\n",
       "      <td>yellow</td>\n",
       "      <td>morning</td>\n",
       "      <td>0</td>\n",
       "    </tr>\n",
       "    <tr>\n",
       "      <th>148</th>\n",
       "      <td>11.540</td>\n",
       "      <td>2.755955</td>\n",
       "      <td>0.508907</td>\n",
       "      <td>9.438</td>\n",
       "      <td>6.148041</td>\n",
       "      <td>3.050744</td>\n",
       "      <td>47.0</td>\n",
       "      <td>0.54715</td>\n",
       "      <td>orange</td>\n",
       "      <td>afternoon</td>\n",
       "      <td>0</td>\n",
       "    </tr>\n",
       "    <tr>\n",
       "      <th>143</th>\n",
       "      <td>27.420</td>\n",
       "      <td>4.213758</td>\n",
       "      <td>0.668900</td>\n",
       "      <td>542.200</td>\n",
       "      <td>8.355615</td>\n",
       "      <td>3.143504</td>\n",
       "      <td>84.0</td>\n",
       "      <td>0.76250</td>\n",
       "      <td>red</td>\n",
       "      <td>morning</td>\n",
       "      <td>1</td>\n",
       "    </tr>\n",
       "  </tbody>\n",
       "</table>\n",
       "<p>365 rows × 11 columns</p>\n",
       "</div>"
      ],
      "text/plain": [
       "     murkiness.level  avg.dolphins.seen.per.day  previous.week.fishing  \\\n",
       "102           13.850                   2.757436               0.511410   \n",
       "60            11.610                   2.925745               0.544970   \n",
       "278           10.860                   2.718282               0.500000   \n",
       "144           12.450                   3.212205               0.548460   \n",
       "179           13.850                   2.755256               0.522930   \n",
       "..               ...                        ...                    ...   \n",
       "207           12.680                   3.063040               0.568730   \n",
       "279            9.777                   2.841389               0.517780   \n",
       "227           12.180                   2.749154               0.505051   \n",
       "148           11.540                   2.755955               0.508907   \n",
       "143           27.420                   4.213758               0.668900   \n",
       "\n",
       "     diversity.of.prey  seals.seen  water.temp  people.previous.day  \\\n",
       "102             17.910    6.587412    3.073015                 44.0   \n",
       "60              15.890    6.164787    3.164517                 54.0   \n",
       "278             20.670    6.021751    3.020074                 38.0   \n",
       "144             30.190    6.364062    3.079236                 81.0   \n",
       "179             29.630    6.618872    3.059615                 42.0   \n",
       "..                 ...         ...         ...                  ...   \n",
       "207             36.460    6.789310    3.331221                 81.0   \n",
       "279             22.870    5.905362    3.183581                 49.0   \n",
       "227             15.820    6.240471    3.020074                 36.0   \n",
       "148              9.438    6.148041    3.050744                 47.0   \n",
       "143            542.200    8.355615    3.143504                 84.0   \n",
       "\n",
       "     seagull.density common.surfboard.colour time.of.day  shark  \n",
       "102          0.55104                  yellow       night      0  \n",
       "60           0.61050                  orange       night      0  \n",
       "278          0.50000                  orange       night      0  \n",
       "144          0.63420                     red       night      0  \n",
       "179          0.55890                     red   afternoon      0  \n",
       "..               ...                     ...         ...    ...  \n",
       "207          0.67160                     red     morning      1  \n",
       "279          0.55334                     red   afternoon      0  \n",
       "227          0.51852                  yellow     morning      0  \n",
       "148          0.54715                  orange   afternoon      0  \n",
       "143          0.76250                     red     morning      1  \n",
       "\n",
       "[365 rows x 11 columns]"
      ]
     },
     "execution_count": 15,
     "metadata": {},
     "output_type": "execute_result"
    }
   ],
   "source": [
    "df_train"
   ]
  },
  {
   "cell_type": "code",
   "execution_count": 16,
   "id": "322e714e",
   "metadata": {},
   "outputs": [],
   "source": [
    "df_train['time.of.day'] = df_train['time.of.day'].replace({'morni7ng':'morning'})"
   ]
  },
  {
   "cell_type": "code",
   "execution_count": 17,
   "id": "fd3e822f",
   "metadata": {},
   "outputs": [],
   "source": [
    "df_train['common.surfboard.colour'] = df_train['common.surfboard.colour'].replace({'yyellow':'yellow'})"
   ]
  },
  {
   "cell_type": "code",
   "execution_count": 18,
   "id": "55d1ba72",
   "metadata": {},
   "outputs": [
    {
     "name": "stdout",
     "output_type": "stream",
     "text": [
      "common.surfboard.colour\n"
     ]
    },
    {
     "data": {
      "image/png": "[encoded data removed]",
      "text/plain": [
       "<Figure size 432x288 with 1 Axes>"
      ]
     },
     "metadata": {
      "needs_background": "light"
     },
     "output_type": "display_data"
    },
    {
     "name": "stdout",
     "output_type": "stream",
     "text": [
      "time.of.day\n"
     ]
    },
    {
     "data": {
      "image/png": "[encoded data removed]",
      "text/plain": [
       "<Figure size 432x288 with 1 Axes>"
      ]
     },
     "metadata": {
      "needs_background": "light"
     },
     "output_type": "display_data"
    }
   ],
   "source": [
    "for col in df_train.select_dtypes(include=object).columns: \n",
    "        print(col)\n",
    "        df_train[col].value_counts(dropna=False).plot(kind='bar')\n",
    "        plt.show()"
   ]
  },
  {
   "cell_type": "code",
   "execution_count": 19,
   "id": "73b2e9ae",
   "metadata": {},
   "outputs": [
    {
     "data": {
      "text/plain": [
       "143    542.2\n",
       "161    525.6\n",
       "125    233.0\n",
       "256    224.1\n",
       "118    199.7\n",
       "Name: diversity.of.prey, dtype: float64"
      ]
     },
     "execution_count": 19,
     "metadata": {},
     "output_type": "execute_result"
    }
   ],
   "source": [
    "df_train['diversity.of.prey'].nlargest()"
   ]
  },
  {
   "cell_type": "code",
   "execution_count": 20,
   "id": "9cc11345",
   "metadata": {},
   "outputs": [],
   "source": [
    "df_train.drop(143, axis=0, inplace=True)\n",
    "df_train.drop(161,axis=0,inplace=True)"
   ]
  },
  {
   "cell_type": "code",
   "execution_count": 21,
   "id": "50f27182",
   "metadata": {},
   "outputs": [
    {
     "data": {
      "text/plain": [
       "125    233.0\n",
       "256    224.1\n",
       "118    199.7\n",
       "374    180.2\n",
       "134    176.5\n",
       "Name: diversity.of.prey, dtype: float64"
      ]
     },
     "execution_count": 21,
     "metadata": {},
     "output_type": "execute_result"
    }
   ],
   "source": [
    "df_train['diversity.of.prey'].nlargest()"
   ]
  },
  {
   "cell_type": "code",
   "execution_count": 22,
   "id": "7fe65943",
   "metadata": {},
   "outputs": [
    {
     "data": {
      "text/plain": [
       "<AxesSubplot:>"
      ]
     },
     "execution_count": 22,
     "metadata": {},
     "output_type": "execute_result"
    },
    {
     "data": {
      "image/png": "[encoded data removed]",
      "text/plain": [
       "<Figure size 432x288 with 1 Axes>"
      ]
     },
     "metadata": {
      "needs_background": "light"
     },
     "output_type": "display_data"
    }
   ],
   "source": [
    "df_train['diversity.of.prey'].hist()"
   ]
  },
  {
   "cell_type": "code",
   "execution_count": 23,
   "id": "c42cb977",
   "metadata": {},
   "outputs": [],
   "source": [
    "median=df_train['people.previous.day'].median()\n",
    "df_train['people.previous.day']=df_train['people.previous.day'].replace(np.nan,median)\n",
    "\n",
    "median=df_train['avg.dolphins.seen.per.day'].median()\n",
    "df_train['avg.dolphins.seen.per.day']=df_train['avg.dolphins.seen.per.day'].replace(np.nan,median)\n",
    "\n",
    "median=df_train['previous.week.fishing'].median()\n",
    "df_train['previous.week.fishing']=df_train['previous.week.fishing'].replace(np.nan,median)\n",
    "\n",
    "median=df_train['diversity.of.prey'].median()\n",
    "df_train['diversity.of.prey']=df_train['diversity.of.prey'].replace(np.nan,median)\n",
    "\n",
    "median=df_train['water.temp'].median()\n",
    "df_train['water.temp']=df_train['water.temp'].replace(np.nan,median)"
   ]
  },
  {
   "cell_type": "code",
   "execution_count": 24,
   "id": "e3986230",
   "metadata": {},
   "outputs": [
    {
     "data": {
      "text/plain": [
       "murkiness.level              0\n",
       "avg.dolphins.seen.per.day    0\n",
       "previous.week.fishing        0\n",
       "diversity.of.prey            0\n",
       "seals.seen                   0\n",
       "water.temp                   0\n",
       "people.previous.day          0\n",
       "seagull.density              0\n",
       "common.surfboard.colour      0\n",
       "time.of.day                  0\n",
       "shark                        0\n",
       "dtype: int64"
      ]
     },
     "execution_count": 24,
     "metadata": {},
     "output_type": "execute_result"
    }
   ],
   "source": [
    "df_train.isnull().sum().sort_values(ascending=False)"
   ]
  },
  {
   "cell_type": "code",
   "execution_count": 25,
   "id": "765a65cd",
   "metadata": {},
   "outputs": [
    {
     "data": {
      "text/html": [
       "<div>\n",
       "<style scoped>\n",
       "    .dataframe tbody tr th:only-of-type {\n",
       "        vertical-align: middle;\n",
       "    }\n",
       "\n",
       "    .dataframe tbody tr th {\n",
       "        vertical-align: top;\n",
       "    }\n",
       "\n",
       "    .dataframe thead th {\n",
       "        text-align: right;\n",
       "    }\n",
       "</style>\n",
       "<table border=\"1\" class=\"dataframe\">\n",
       "  <thead>\n",
       "    <tr style=\"text-align: right;\">\n",
       "      <th></th>\n",
       "      <th>murkiness.level</th>\n",
       "      <th>avg.dolphins.seen.per.day</th>\n",
       "      <th>previous.week.fishing</th>\n",
       "      <th>diversity.of.prey</th>\n",
       "      <th>seals.seen</th>\n",
       "      <th>water.temp</th>\n",
       "      <th>people.previous.day</th>\n",
       "      <th>seagull.density</th>\n",
       "      <th>shark</th>\n",
       "      <th>common.surfboard.colour_red</th>\n",
       "      <th>common.surfboard.colour_yellow</th>\n",
       "      <th>time.of.day_morning</th>\n",
       "      <th>time.of.day_night</th>\n",
       "    </tr>\n",
       "  </thead>\n",
       "  <tbody>\n",
       "    <tr>\n",
       "      <th>102</th>\n",
       "      <td>13.850</td>\n",
       "      <td>2.757436</td>\n",
       "      <td>0.511410</td>\n",
       "      <td>17.910</td>\n",
       "      <td>6.587412</td>\n",
       "      <td>3.073015</td>\n",
       "      <td>44.0</td>\n",
       "      <td>0.55104</td>\n",
       "      <td>0</td>\n",
       "      <td>0</td>\n",
       "      <td>1</td>\n",
       "      <td>0</td>\n",
       "      <td>1</td>\n",
       "    </tr>\n",
       "    <tr>\n",
       "      <th>60</th>\n",
       "      <td>11.610</td>\n",
       "      <td>2.925745</td>\n",
       "      <td>0.544970</td>\n",
       "      <td>15.890</td>\n",
       "      <td>6.164787</td>\n",
       "      <td>3.164517</td>\n",
       "      <td>54.0</td>\n",
       "      <td>0.61050</td>\n",
       "      <td>0</td>\n",
       "      <td>0</td>\n",
       "      <td>0</td>\n",
       "      <td>0</td>\n",
       "      <td>1</td>\n",
       "    </tr>\n",
       "    <tr>\n",
       "      <th>278</th>\n",
       "      <td>10.860</td>\n",
       "      <td>2.718282</td>\n",
       "      <td>0.500000</td>\n",
       "      <td>20.670</td>\n",
       "      <td>6.021751</td>\n",
       "      <td>3.020074</td>\n",
       "      <td>38.0</td>\n",
       "      <td>0.50000</td>\n",
       "      <td>0</td>\n",
       "      <td>0</td>\n",
       "      <td>0</td>\n",
       "      <td>0</td>\n",
       "      <td>1</td>\n",
       "    </tr>\n",
       "    <tr>\n",
       "      <th>144</th>\n",
       "      <td>12.450</td>\n",
       "      <td>3.212205</td>\n",
       "      <td>0.548460</td>\n",
       "      <td>30.190</td>\n",
       "      <td>6.364062</td>\n",
       "      <td>3.079236</td>\n",
       "      <td>81.0</td>\n",
       "      <td>0.63420</td>\n",
       "      <td>0</td>\n",
       "      <td>1</td>\n",
       "      <td>0</td>\n",
       "      <td>0</td>\n",
       "      <td>1</td>\n",
       "    </tr>\n",
       "    <tr>\n",
       "      <th>179</th>\n",
       "      <td>13.850</td>\n",
       "      <td>2.755256</td>\n",
       "      <td>0.522930</td>\n",
       "      <td>29.630</td>\n",
       "      <td>6.618872</td>\n",
       "      <td>3.059615</td>\n",
       "      <td>42.0</td>\n",
       "      <td>0.55890</td>\n",
       "      <td>0</td>\n",
       "      <td>1</td>\n",
       "      <td>0</td>\n",
       "      <td>0</td>\n",
       "      <td>0</td>\n",
       "    </tr>\n",
       "    <tr>\n",
       "      <th>...</th>\n",
       "      <td>...</td>\n",
       "      <td>...</td>\n",
       "      <td>...</td>\n",
       "      <td>...</td>\n",
       "      <td>...</td>\n",
       "      <td>...</td>\n",
       "      <td>...</td>\n",
       "      <td>...</td>\n",
       "      <td>...</td>\n",
       "      <td>...</td>\n",
       "      <td>...</td>\n",
       "      <td>...</td>\n",
       "      <td>...</td>\n",
       "    </tr>\n",
       "    <tr>\n",
       "      <th>341</th>\n",
       "      <td>17.350</td>\n",
       "      <td>2.799195</td>\n",
       "      <td>0.528370</td>\n",
       "      <td>44.410</td>\n",
       "      <td>7.104965</td>\n",
       "      <td>3.101903</td>\n",
       "      <td>46.0</td>\n",
       "      <td>0.58235</td>\n",
       "      <td>1</td>\n",
       "      <td>0</td>\n",
       "      <td>1</td>\n",
       "      <td>1</td>\n",
       "      <td>0</td>\n",
       "    </tr>\n",
       "    <tr>\n",
       "      <th>207</th>\n",
       "      <td>12.680</td>\n",
       "      <td>3.063040</td>\n",
       "      <td>0.568730</td>\n",
       "      <td>36.460</td>\n",
       "      <td>6.789310</td>\n",
       "      <td>3.331221</td>\n",
       "      <td>81.0</td>\n",
       "      <td>0.67160</td>\n",
       "      <td>1</td>\n",
       "      <td>1</td>\n",
       "      <td>0</td>\n",
       "      <td>1</td>\n",
       "      <td>0</td>\n",
       "    </tr>\n",
       "    <tr>\n",
       "      <th>279</th>\n",
       "      <td>9.777</td>\n",
       "      <td>2.841389</td>\n",
       "      <td>0.517780</td>\n",
       "      <td>22.870</td>\n",
       "      <td>5.905362</td>\n",
       "      <td>3.183581</td>\n",
       "      <td>49.0</td>\n",
       "      <td>0.55334</td>\n",
       "      <td>0</td>\n",
       "      <td>1</td>\n",
       "      <td>0</td>\n",
       "      <td>0</td>\n",
       "      <td>0</td>\n",
       "    </tr>\n",
       "    <tr>\n",
       "      <th>227</th>\n",
       "      <td>12.180</td>\n",
       "      <td>2.749154</td>\n",
       "      <td>0.505051</td>\n",
       "      <td>15.820</td>\n",
       "      <td>6.240471</td>\n",
       "      <td>3.020074</td>\n",
       "      <td>36.0</td>\n",
       "      <td>0.51852</td>\n",
       "      <td>0</td>\n",
       "      <td>0</td>\n",
       "      <td>1</td>\n",
       "      <td>1</td>\n",
       "      <td>0</td>\n",
       "    </tr>\n",
       "    <tr>\n",
       "      <th>148</th>\n",
       "      <td>11.540</td>\n",
       "      <td>2.755955</td>\n",
       "      <td>0.508907</td>\n",
       "      <td>9.438</td>\n",
       "      <td>6.148041</td>\n",
       "      <td>3.050744</td>\n",
       "      <td>47.0</td>\n",
       "      <td>0.54715</td>\n",
       "      <td>0</td>\n",
       "      <td>0</td>\n",
       "      <td>0</td>\n",
       "      <td>0</td>\n",
       "      <td>0</td>\n",
       "    </tr>\n",
       "  </tbody>\n",
       "</table>\n",
       "<p>363 rows × 13 columns</p>\n",
       "</div>"
      ],
      "text/plain": [
       "     murkiness.level  avg.dolphins.seen.per.day  previous.week.fishing  \\\n",
       "102           13.850                   2.757436               0.511410   \n",
       "60            11.610                   2.925745               0.544970   \n",
       "278           10.860                   2.718282               0.500000   \n",
       "144           12.450                   3.212205               0.548460   \n",
       "179           13.850                   2.755256               0.522930   \n",
       "..               ...                        ...                    ...   \n",
       "341           17.350                   2.799195               0.528370   \n",
       "207           12.680                   3.063040               0.568730   \n",
       "279            9.777                   2.841389               0.517780   \n",
       "227           12.180                   2.749154               0.505051   \n",
       "148           11.540                   2.755955               0.508907   \n",
       "\n",
       "     diversity.of.prey  seals.seen  water.temp  people.previous.day  \\\n",
       "102             17.910    6.587412    3.073015                 44.0   \n",
       "60              15.890    6.164787    3.164517                 54.0   \n",
       "278             20.670    6.021751    3.020074                 38.0   \n",
       "144             30.190    6.364062    3.079236                 81.0   \n",
       "179             29.630    6.618872    3.059615                 42.0   \n",
       "..                 ...         ...         ...                  ...   \n",
       "341             44.410    7.104965    3.101903                 46.0   \n",
       "207             36.460    6.789310    3.331221                 81.0   \n",
       "279             22.870    5.905362    3.183581                 49.0   \n",
       "227             15.820    6.240471    3.020074                 36.0   \n",
       "148              9.438    6.148041    3.050744                 47.0   \n",
       "\n",
       "     seagull.density  shark  common.surfboard.colour_red  \\\n",
       "102          0.55104      0                            0   \n",
       "60           0.61050      0                            0   \n",
       "278          0.50000      0                            0   \n",
       "144          0.63420      0                            1   \n",
       "179          0.55890      0                            1   \n",
       "..               ...    ...                          ...   \n",
       "341          0.58235      1                            0   \n",
       "207          0.67160      1                            1   \n",
       "279          0.55334      0                            1   \n",
       "227          0.51852      0                            0   \n",
       "148          0.54715      0                            0   \n",
       "\n",
       "     common.surfboard.colour_yellow  time.of.day_morning  time.of.day_night  \n",
       "102                               1                    0                  1  \n",
       "60                                0                    0                  1  \n",
       "278                               0                    0                  1  \n",
       "144                               0                    0                  1  \n",
       "179                               0                    0                  0  \n",
       "..                              ...                  ...                ...  \n",
       "341                               1                    1                  0  \n",
       "207                               0                    1                  0  \n",
       "279                               0                    0                  0  \n",
       "227                               1                    1                  0  \n",
       "148                               0                    0                  0  \n",
       "\n",
       "[363 rows x 13 columns]"
      ]
     },
     "execution_count": 25,
     "metadata": {},
     "output_type": "execute_result"
    }
   ],
   "source": [
    "df_train = pd.get_dummies(df_train, prefix_sep='_', drop_first=True)\n",
    "df_train"
   ]
  },
  {
   "cell_type": "code",
   "execution_count": 26,
   "id": "402a99ad",
   "metadata": {},
   "outputs": [],
   "source": [
    "feature_names=df_train.columns[df_train.columns != 'shark']\n",
    "X_train=df_train[feature_names].values\n",
    "y_train=df_train['shark'].values"
   ]
  },
  {
   "cell_type": "code",
   "execution_count": 27,
   "id": "19875fa5",
   "metadata": {},
   "outputs": [],
   "source": [
    "# normalise...\n",
    "from sklearn.preprocessing import MinMaxScaler\n",
    "\n",
    "mm_scaler = MinMaxScaler()\n",
    "X_train = mm_scaler.fit_transform(X_train)"
   ]
  },
  {
   "cell_type": "code",
   "execution_count": 28,
   "id": "8ce08bb1",
   "metadata": {},
   "outputs": [
    {
     "data": {
      "text/plain": [
       "array([[0.00308756, 0.02049165, 0.05670974, ..., 1.        , 0.        ,\n",
       "        1.        ],\n",
       "       [0.00195766, 0.10857704, 0.22350895, ..., 0.        , 0.        ,\n",
       "        1.        ],\n",
       "       [0.00157934, 0.        , 0.        , ..., 0.        , 0.        ,\n",
       "        1.        ],\n",
       "       ...,\n",
       "       [0.00103305, 0.06442878, 0.08836978, ..., 0.        , 0.        ,\n",
       "        0.        ],\n",
       "       [0.00224518, 0.01615725, 0.02510437, ..., 1.        , 1.        ,\n",
       "        0.        ],\n",
       "       [0.00192235, 0.01971627, 0.04426938, ..., 0.        , 0.        ,\n",
       "        0.        ]])"
      ]
     },
     "execution_count": 28,
     "metadata": {},
     "output_type": "execute_result"
    }
   ],
   "source": [
    "X_train"
   ]
  },
  {
   "cell_type": "code",
   "execution_count": 29,
   "id": "df31a178",
   "metadata": {},
   "outputs": [],
   "source": [
    "#Development"
   ]
  },
  {
   "cell_type": "code",
   "execution_count": 30,
   "id": "63722477",
   "metadata": {},
   "outputs": [
    {
     "name": "stdout",
     "output_type": "stream",
     "text": [
      "Average accuracy for logistic regression with newton-cg solver: 0.8870243531202435\n",
      "Average accuracy for logistic regression with lbfgs solver: 0.8870243531202435\n",
      "Average accuracy for logistic regression with liblinear solver: 0.8815068493150685\n",
      "Average accuracy for logistic regression with sag solver: 0.8870243531202435\n",
      "Average accuracy for logistic regression with saga solver: 0.8870243531202435\n"
     ]
    }
   ],
   "source": [
    "from sklearn.linear_model import LogisticRegression\n",
    "\n",
    "Solvers = ['newton-cg', 'lbfgs', 'liblinear', 'sag', 'saga']\n",
    "\n",
    "for i in Solvers:\n",
    "           log_reg = LogisticRegression(solver=i, penalty='l2')\n",
    "           score = np.mean(cross_val_score(log_reg, X_train, y_train, cv=5, scoring='accuracy'))\n",
    "           print(\"Average accuracy for logistic regression with\", str(i),\"solver:\", str(score))\n",
    "           \n",
    "\n",
    "#https://medium.com/codex/do-i-need-to-tune-logistic-regression-hyperparameters-1cb2b81fca69\n",
    "#https://scikit-learn.org/stable/modules/generated/sklearn.linear_model.LogisticRegression.html\n",
    "#https://www.statology.org/high-dimensional-data/\n",
    "#varied penalty but did nothing"
   ]
  },
  {
   "cell_type": "code",
   "execution_count": 31,
   "id": "b9dc83b5",
   "metadata": {},
   "outputs": [
    {
     "data": {
      "text/plain": [
       "LogisticRegression()"
      ]
     },
     "execution_count": 31,
     "metadata": {},
     "output_type": "execute_result"
    }
   ],
   "source": [
    "log_reg_tuned = LogisticRegression(solver='lbfgs', penalty='l2')\n",
    "log_reg_tuned\n",
    "\n",
    "# https://stackoverflow.com/questions/38640109/logistic-regression-python-solvers-definitions"
   ]
  },
  {
   "cell_type": "code",
   "execution_count": 32,
   "id": "ebb17d1b",
   "metadata": {},
   "outputs": [
    {
     "name": "stdout",
     "output_type": "stream",
     "text": [
      "Average accuracy for decision tree with max depth 1 = 0.8567732115677321\n",
      "Average accuracy for decision tree with max depth 2 = 0.8788432267884323\n",
      "Average accuracy for decision tree with max depth 3 = 0.881544901065449\n",
      "Average accuracy for decision tree with max depth 4 = 0.8678462709284626\n",
      "Average accuracy for decision tree with max depth 5 = 0.8623287671232877\n",
      "Average accuracy for decision tree with max depth 6 = 0.845814307458143\n",
      "Average accuracy for decision tree with max depth 7 = 0.8568873668188737\n",
      "Average accuracy for decision tree with max depth 8 = 0.8568112633181126\n",
      "Average accuracy for decision tree with max depth 9 = 0.8541095890410958\n",
      "Average accuracy for decision tree with max depth 10 = 0.8402587519025875\n",
      "Average accuracy for decision tree with max depth 11 = 0.8430365296803652\n",
      "Average accuracy for decision tree with max depth 12 = 0.8431126331811262\n",
      "Average accuracy for decision tree with max depth 13 = 0.8293378995433789\n",
      "Average accuracy for decision tree with max depth 14 = 0.8513698630136985\n",
      "Average accuracy for decision tree with max depth 15 = 0.8484398782343987\n",
      "Average accuracy for decision tree with max depth 16 = 0.8512937595129376\n",
      "Average accuracy for decision tree with max depth 17 = 0.8567732115677321\n",
      "Average accuracy for decision tree with max depth 18 = 0.8375570776255706\n",
      "Average accuracy for decision tree with max depth 19 = 0.8403348554033485\n",
      "Average accuracy for decision tree with max depth 20 = 0.8457382039573821\n"
     ]
    }
   ],
   "source": [
    "from sklearn.tree import DecisionTreeClassifier\n",
    "import sklearn.tree as tree\n",
    "\n",
    "for d in range(1,21):\n",
    "           Dec_Tree = DecisionTreeClassifier(max_depth=d)\n",
    "           score = np.mean(cross_val_score(Dec_Tree, X_train, y_train, cv=5, scoring='accuracy'))\n",
    "           print(\"Average accuracy for decision tree with max depth \" + str(d),\"=\", str(score))     \n",
    "        \n",
    "#https://www.section.io/engineering-education/hyperparmeter-tuning/"
   ]
  },
  {
   "cell_type": "code",
   "execution_count": 33,
   "id": "1ae168c9",
   "metadata": {},
   "outputs": [
    {
     "name": "stdout",
     "output_type": "stream",
     "text": [
      "Average accuracy: 0.88162100456621\n"
     ]
    }
   ],
   "source": [
    "from sklearn.ensemble import RandomForestClassifier\n",
    "\n",
    "rand_forest_clf = RandomForestClassifier(n_estimators=100, random_state=1) \n",
    "score = np.mean(cross_val_score(rand_forest_clf, X_train, y_train, cv=5, scoring='accuracy'))\n",
    "print(\"Average accuracy: \"  + str(score))\n",
    "\n",
    "# https://stats.stackexchange.com/questions/558060/range-of-values-for-hyperparameter-fine-tuning-in-random-forest-classification"
   ]
  },
  {
   "cell_type": "code",
   "execution_count": 34,
   "id": "08818009",
   "metadata": {},
   "outputs": [
    {
     "name": "stdout",
     "output_type": "stream",
     "text": [
      "RandomForestClassifier(max_depth=3, max_features=6)\n",
      "Mean cross-validated score of the best_estimator:0.9007990867579909\n",
      "Best Hyperparameters found: {'max_depth': 3, 'max_features': 6, 'n_estimators': 100}\n"
     ]
    }
   ],
   "source": [
    "from sklearn.model_selection import GridSearchCV\n",
    "\n",
    "rf = RandomForestClassifier()\n",
    "\n",
    "param_grid = {'n_estimators':[50, 100, 150, 200], 'max_features':[5,6,7,8],'max_depth':[3,4,5,6]}\n",
    "\n",
    "gs = GridSearchCV(rf, param_grid, cv=5, return_train_score=True)\n",
    "\n",
    "gs.fit(X_train, y_train)\n",
    "\n",
    "rf_model_tuned = gs.best_estimator_\n",
    "\n",
    "print(rf_model_tuned)\n",
    "print(\"Mean cross-validated score of the best_estimator:\" + str(gs.best_score_))     # Average accuracy\n",
    "print(\"Best Hyperparameters found: \" + str(gs.best_params_))\n",
    "\n",
    "# Notes:\n",
    "# https://towardsdatascience.com/gridsearchcv-for-beginners-db48a90114ee#:~:text=The%20scoring%20metric%20can%20be%20any%20metric%20of,is%20where%20the%20limitations%20come%20in%20to%20play."
   ]
  },
  {
   "cell_type": "code",
   "execution_count": 35,
   "id": "185d18c8",
   "metadata": {},
   "outputs": [
    {
     "name": "stdout",
     "output_type": "stream",
     "text": [
      "{'max_depth': 3, 'max_features': 5, 'n_estimators': 50} Accuracy on training: 0.9304396255480507 Accuracy on validation: 0.8843607305936072\n",
      "{'max_depth': 3, 'max_features': 5, 'n_estimators': 100} Accuracy on training: 0.93181182604574 Accuracy on validation: 0.8871004566210047\n",
      "{'max_depth': 3, 'max_features': 5, 'n_estimators': 150} Accuracy on training: 0.9331935063396137 Accuracy on validation: 0.8925799086757991\n",
      "{'max_depth': 3, 'max_features': 5, 'n_estimators': 200} Accuracy on training: 0.9331911363905677 Accuracy on validation: 0.8925799086757991\n",
      "{'max_depth': 3, 'max_features': 6, 'n_estimators': 50} Accuracy on training: 0.9311269107714184 Accuracy on validation: 0.8925799086757991\n",
      "{'max_depth': 3, 'max_features': 6, 'n_estimators': 100} Accuracy on training: 0.9352577319587629 Accuracy on validation: 0.9007990867579909\n",
      "{'max_depth': 3, 'max_features': 6, 'n_estimators': 150} Accuracy on training: 0.9325038511672 Accuracy on validation: 0.8871004566210047\n",
      "{'max_depth': 3, 'max_features': 6, 'n_estimators': 200} Accuracy on training: 0.9331911363905677 Accuracy on validation: 0.8871004566210047\n",
      "{'max_depth': 3, 'max_features': 7, 'n_estimators': 50} Accuracy on training: 0.9331887664415216 Accuracy on validation: 0.8953576864535769\n",
      "{'max_depth': 3, 'max_features': 7, 'n_estimators': 100} Accuracy on training: 0.9325038511672 Accuracy on validation: 0.8898401826484019\n",
      "{'max_depth': 3, 'max_features': 7, 'n_estimators': 150} Accuracy on training: 0.9311269107714184 Accuracy on validation: 0.8871004566210047\n",
      "{'max_depth': 3, 'max_features': 7, 'n_estimators': 200} Accuracy on training: 0.9359497570802228 Accuracy on validation: 0.8925799086757991\n",
      "{'max_depth': 3, 'max_features': 8, 'n_estimators': 50} Accuracy on training: 0.9331935063396136 Accuracy on validation: 0.8898021308980212\n",
      "{'max_depth': 3, 'max_features': 8, 'n_estimators': 100} Accuracy on training: 0.9345657068373031 Accuracy on validation: 0.8898401826484019\n",
      "{'max_depth': 3, 'max_features': 8, 'n_estimators': 150} Accuracy on training: 0.932506221116246 Accuracy on validation: 0.8871004566210047\n",
      "{'max_depth': 3, 'max_features': 8, 'n_estimators': 200} Accuracy on training: 0.9345680767863491 Accuracy on validation: 0.8925799086757991\n",
      "{'max_depth': 4, 'max_features': 5, 'n_estimators': 50} Accuracy on training: 0.9449057945254177 Accuracy on validation: 0.8925799086757991\n",
      "{'max_depth': 4, 'max_features': 5, 'n_estimators': 100} Accuracy on training: 0.9442137694039578 Accuracy on validation: 0.8925799086757991\n",
      "{'max_depth': 4, 'max_features': 5, 'n_estimators': 150} Accuracy on training: 0.944216139353004 Accuracy on validation: 0.8843607305936072\n",
      "{'max_depth': 4, 'max_features': 5, 'n_estimators': 200} Accuracy on training: 0.9469676501955208 Accuracy on validation: 0.8925418569254185\n",
      "{'max_depth': 4, 'max_features': 6, 'n_estimators': 50} Accuracy on training: 0.9462803649721531 Accuracy on validation: 0.8843607305936072\n",
      "{'max_depth': 4, 'max_features': 6, 'n_estimators': 100} Accuracy on training: 0.9442113994549117 Accuracy on validation: 0.8871004566210047\n",
      "{'max_depth': 4, 'max_features': 6, 'n_estimators': 150} Accuracy on training: 0.9476549354188885 Accuracy on validation: 0.8925799086757991\n",
      "{'max_depth': 4, 'max_features': 6, 'n_estimators': 200} Accuracy on training: 0.944216139353004 Accuracy on validation: 0.8871004566210047\n",
      "{'max_depth': 4, 'max_features': 7, 'n_estimators': 50} Accuracy on training: 0.9449057945254177 Accuracy on validation: 0.8871004566210047\n",
      "{'max_depth': 4, 'max_features': 7, 'n_estimators': 100} Accuracy on training: 0.9469676501955208 Accuracy on validation: 0.8953196347031962\n",
      "{'max_depth': 4, 'max_features': 7, 'n_estimators': 150} Accuracy on training: 0.9483422206422562 Accuracy on validation: 0.8925799086757991\n",
      "{'max_depth': 4, 'max_features': 7, 'n_estimators': 200} Accuracy on training: 0.944216139353004 Accuracy on validation: 0.8953196347031962\n",
      "{'max_depth': 4, 'max_features': 8, 'n_estimators': 50} Accuracy on training: 0.9462803649721531 Accuracy on validation: 0.8898401826484019\n",
      "{'max_depth': 4, 'max_features': 8, 'n_estimators': 100} Accuracy on training: 0.9455930797487854 Accuracy on validation: 0.8871004566210047\n",
      "{'max_depth': 4, 'max_features': 8, 'n_estimators': 150} Accuracy on training: 0.9476525654698424 Accuracy on validation: 0.8871004566210047\n",
      "{'max_depth': 4, 'max_features': 8, 'n_estimators': 200} Accuracy on training: 0.946277995023107 Accuracy on validation: 0.8925799086757991\n",
      "{'max_depth': 5, 'max_features': 5, 'n_estimators': 50} Accuracy on training: 0.9517833866571868 Accuracy on validation: 0.8926179604261797\n",
      "{'max_depth': 5, 'max_features': 5, 'n_estimators': 100} Accuracy on training: 0.9531626970020145 Accuracy on validation: 0.8898782343987822\n",
      "{'max_depth': 5, 'max_features': 5, 'n_estimators': 150} Accuracy on training: 0.9552292925702097 Accuracy on validation: 0.8898401826484019\n",
      "{'max_depth': 5, 'max_features': 5, 'n_estimators': 200} Accuracy on training: 0.9566086029150374 Accuracy on validation: 0.8898401826484019\n",
      "{'max_depth': 5, 'max_features': 6, 'n_estimators': 50} Accuracy on training: 0.9545443772958881 Accuracy on validation: 0.887062404870624\n",
      "{'max_depth': 5, 'max_features': 6, 'n_estimators': 100} Accuracy on training: 0.9538547221234743 Accuracy on validation: 0.8953196347031962\n",
      "{'max_depth': 5, 'max_features': 6, 'n_estimators': 150} Accuracy on training: 0.9552269226211637 Accuracy on validation: 0.8898401826484019\n",
      "{'max_depth': 5, 'max_features': 6, 'n_estimators': 200} Accuracy on training: 0.954542007346842 Accuracy on validation: 0.8898401826484019\n",
      "{'max_depth': 5, 'max_features': 7, 'n_estimators': 50} Accuracy on training: 0.9552245526721176 Accuracy on validation: 0.8925799086757991\n",
      "{'max_depth': 5, 'max_features': 7, 'n_estimators': 100} Accuracy on training: 0.9559189477426235 Accuracy on validation: 0.8898401826484019\n",
      "{'max_depth': 5, 'max_features': 7, 'n_estimators': 150} Accuracy on training: 0.9559165777935774 Accuracy on validation: 0.8925799086757991\n",
      "{'max_depth': 5, 'max_features': 7, 'n_estimators': 200} Accuracy on training: 0.9531650669510606 Accuracy on validation: 0.8871004566210047\n",
      "{'max_depth': 5, 'max_features': 8, 'n_estimators': 50} Accuracy on training: 0.9552269226211637 Accuracy on validation: 0.8925799086757991\n",
      "{'max_depth': 5, 'max_features': 8, 'n_estimators': 100} Accuracy on training: 0.954539637397796 Accuracy on validation: 0.8843607305936072\n",
      "{'max_depth': 5, 'max_features': 8, 'n_estimators': 150} Accuracy on training: 0.957295888138405 Accuracy on validation: 0.8925799086757991\n",
      "{'max_depth': 5, 'max_features': 8, 'n_estimators': 200} Accuracy on training: 0.9566062329659912 Accuracy on validation: 0.8898401826484019\n",
      "{'max_depth': 6, 'max_features': 5, 'n_estimators': 50} Accuracy on training: 0.9662471856855077 Accuracy on validation: 0.8898782343987822\n",
      "{'max_depth': 6, 'max_features': 5, 'n_estimators': 100} Accuracy on training: 0.9690010664770707 Accuracy on validation: 0.8871004566210047\n",
      "{'max_depth': 6, 'max_features': 5, 'n_estimators': 150} Accuracy on training: 0.9696907216494847 Accuracy on validation: 0.8898782343987822\n",
      "{'max_depth': 6, 'max_features': 5, 'n_estimators': 200} Accuracy on training: 0.9703803768218984 Accuracy on validation: 0.8925799086757991\n",
      "{'max_depth': 6, 'max_features': 6, 'n_estimators': 50} Accuracy on training: 0.9710747718924043 Accuracy on validation: 0.8953196347031962\n",
      "{'max_depth': 6, 'max_features': 6, 'n_estimators': 100} Accuracy on training: 0.969003436426117 Accuracy on validation: 0.8898782343987822\n",
      "{'max_depth': 6, 'max_features': 6, 'n_estimators': 150} Accuracy on training: 0.9710724019433583 Accuracy on validation: 0.8898401826484019\n",
      "{'max_depth': 6, 'max_features': 6, 'n_estimators': 200} Accuracy on training: 0.9703803768218984 Accuracy on validation: 0.8980974124809741\n",
      "{'max_depth': 6, 'max_features': 7, 'n_estimators': 50} Accuracy on training: 0.9696930915985307 Accuracy on validation: 0.8843607305936072\n",
      "{'max_depth': 6, 'max_features': 7, 'n_estimators': 100} Accuracy on training: 0.9738239127858751 Accuracy on validation: 0.8981354642313546\n",
      "{'max_depth': 6, 'max_features': 7, 'n_estimators': 150} Accuracy on training: 0.9717549472686338 Accuracy on validation: 0.8953196347031962\n",
      "{'max_depth': 6, 'max_features': 7, 'n_estimators': 200} Accuracy on training: 0.9724469723900937 Accuracy on validation: 0.8925799086757991\n",
      "{'max_depth': 6, 'max_features': 8, 'n_estimators': 50} Accuracy on training: 0.9717644270648181 Accuracy on validation: 0.8871004566210047\n",
      "{'max_depth': 6, 'max_features': 8, 'n_estimators': 100} Accuracy on training: 0.9703803768218984 Accuracy on validation: 0.8843226788432268\n",
      "{'max_depth': 6, 'max_features': 8, 'n_estimators': 150} Accuracy on training: 0.9724469723900937 Accuracy on validation: 0.8898401826484019\n",
      "{'max_depth': 6, 'max_features': 8, 'n_estimators': 200} Accuracy on training: 0.9731366275625074 Accuracy on validation: 0.8925799086757991\n"
     ]
    }
   ],
   "source": [
    "scores=gs.cv_results_\n",
    "\n",
    "for param,mean_train,mean_val in zip(scores['params'],scores['mean_train_score'],scores['mean_test_score']):\n",
    "            print(param,'Accuracy on training:', mean_train,'Accuracy on validation:', mean_val)"
   ]
  },
  {
   "cell_type": "code",
   "execution_count": 36,
   "id": "3a7ccc55",
   "metadata": {},
   "outputs": [
    {
     "data": {
      "text/plain": [
       "KFold(n_splits=5, random_state=None, shuffle=False)"
      ]
     },
     "execution_count": 36,
     "metadata": {},
     "output_type": "execute_result"
    }
   ],
   "source": [
    "from sklearn.model_selection import KFold\n",
    "# Determine the splits\n",
    "splits = KFold(n_splits=5)\n",
    "splits"
   ]
  },
  {
   "cell_type": "code",
   "execution_count": 37,
   "id": "23f2014d",
   "metadata": {},
   "outputs": [
    {
     "name": "stdout",
     "output_type": "stream",
     "text": [
      "MLPClassifier(activation='tanh', alpha=0.001, hidden_layer_sizes=100,\n",
      "              max_iter=1000)\n",
      "Mean cross-validated score of the best_estimator: 0.8926179604261796\n",
      "Best Hyperparameters found: {'activation': 'tanh', 'alpha': 0.001, 'hidden_layer_sizes': 100, 'max_iter': 1000, 'solver': 'adam'}\n"
     ]
    }
   ],
   "source": [
    "from sklearn.neural_network import MLPClassifier\n",
    "\n",
    "# Define the Param Grid\n",
    "param_grid = {\"hidden_layer_sizes\": [(5), (10), (100)],\n",
    "              \"activation\": ['logistic', 'tanh', 'relu'],\n",
    "              \"solver\": ['lbfgs','sgd','adam'],\n",
    "              \"alpha\": [0.01, 0.001],\n",
    "              \"max_iter\":[100,500,1000,2000]}\n",
    "\n",
    "mlp_model = MLPClassifier()\n",
    "\n",
    "# Determine the splits and perform the grid search\n",
    "grid = GridSearchCV(mlp_model, param_grid, cv=splits, return_train_score=True, n_jobs=-1).fit(X_train, y_train)\n",
    "\n",
    "# Select the best estimators\n",
    "mlp_model_tuned=grid.best_estimator_\n",
    "\n",
    "# Output the results\n",
    "print(mlp_model_tuned)\n",
    "print(\"Mean cross-validated score of the best_estimator: \" + str(grid.best_score_))     # Average accuracy\n",
    "print(\"Best Hyperparameters found: \" + str(grid.best_params_))\n",
    "\n",
    "#https://machinelearningmastery.com/choose-an-activation-function-for-deep-learning/"
   ]
  },
  {
   "cell_type": "code",
   "execution_count": 38,
   "id": "3121a737",
   "metadata": {},
   "outputs": [
    {
     "name": "stdout",
     "output_type": "stream",
     "text": [
      "{'activation': 'logistic', 'alpha': 0.01, 'hidden_layer_sizes': 5, 'max_iter': 100, 'solver': 'lbfgs'} Accuracy on training: 0.9311387605166489 Accuracy on validation: 0.8733257229832571\n",
      "{'activation': 'logistic', 'alpha': 0.01, 'hidden_layer_sizes': 5, 'max_iter': 100, 'solver': 'sgd'} Accuracy on training: 0.6273942410238179 Accuracy on validation: 0.6198249619482497\n",
      "{'activation': 'logistic', 'alpha': 0.01, 'hidden_layer_sizes': 5, 'max_iter': 100, 'solver': 'adam'} Accuracy on training: 0.627420310463325 Accuracy on validation: 0.6253044140030442\n",
      "{'activation': 'logistic', 'alpha': 0.01, 'hidden_layer_sizes': 5, 'max_iter': 500, 'solver': 'lbfgs'} Accuracy on training: 0.9628154994667615 Accuracy on validation: 0.881468797564688\n",
      "{'activation': 'logistic', 'alpha': 0.01, 'hidden_layer_sizes': 5, 'max_iter': 500, 'solver': 'sgd'} Accuracy on training: 0.6198341035667733 Accuracy on validation: 0.6198249619482497\n",
      "{'activation': 'logistic', 'alpha': 0.01, 'hidden_layer_sizes': 5, 'max_iter': 500, 'solver': 'adam'} Accuracy on training: 0.8339992890152862 Accuracy on validation: 0.8265981735159817\n",
      "{'activation': 'logistic', 'alpha': 0.01, 'hidden_layer_sizes': 5, 'max_iter': 1000, 'solver': 'lbfgs'} Accuracy on training: 0.9648678753406802 Accuracy on validation: 0.8512176560121766\n",
      "{'activation': 'logistic', 'alpha': 0.01, 'hidden_layer_sizes': 5, 'max_iter': 1000, 'solver': 'sgd'} Accuracy on training: 0.6198341035667733 Accuracy on validation: 0.6198249619482497\n",
      "{'activation': 'logistic', 'alpha': 0.01, 'hidden_layer_sizes': 5, 'max_iter': 1000, 'solver': 'adam'} Accuracy on training: 0.88153572698187 Accuracy on validation: 0.8732876712328768\n",
      "{'activation': 'logistic', 'alpha': 0.01, 'hidden_layer_sizes': 5, 'max_iter': 2000, 'solver': 'lbfgs'} Accuracy on training: 0.9593672236046926 Accuracy on validation: 0.8429223744292237\n",
      "{'activation': 'logistic', 'alpha': 0.01, 'hidden_layer_sizes': 5, 'max_iter': 2000, 'solver': 'sgd'} Accuracy on training: 0.6198341035667733 Accuracy on validation: 0.6198249619482497\n",
      "{'activation': 'logistic', 'alpha': 0.01, 'hidden_layer_sizes': 5, 'max_iter': 2000, 'solver': 'adam'} Accuracy on training: 0.8856760279653987 Accuracy on validation: 0.8787671232876711\n",
      "{'activation': 'logistic', 'alpha': 0.01, 'hidden_layer_sizes': 10, 'max_iter': 100, 'solver': 'lbfgs'} Accuracy on training: 0.9518023462495556 Accuracy on validation: 0.8485159817351597\n",
      "{'activation': 'logistic', 'alpha': 0.01, 'hidden_layer_sizes': 10, 'max_iter': 100, 'solver': 'sgd'} Accuracy on training: 0.6198341035667733 Accuracy on validation: 0.6198249619482497\n",
      "{'activation': 'logistic', 'alpha': 0.01, 'hidden_layer_sizes': 10, 'max_iter': 100, 'solver': 'adam'} Accuracy on training: 0.6232776395307501 Accuracy on validation: 0.628158295281583\n",
      "{'activation': 'logistic', 'alpha': 0.01, 'hidden_layer_sizes': 10, 'max_iter': 500, 'solver': 'lbfgs'} Accuracy on training: 0.9869036615712762 Accuracy on validation: 0.8375190258751901\n",
      "{'activation': 'logistic', 'alpha': 0.01, 'hidden_layer_sizes': 10, 'max_iter': 500, 'solver': 'sgd'} Accuracy on training: 0.6198341035667733 Accuracy on validation: 0.6198249619482497\n",
      "{'activation': 'logistic', 'alpha': 0.01, 'hidden_layer_sizes': 10, 'max_iter': 500, 'solver': 'adam'} Accuracy on training: 0.8677781727692855 Accuracy on validation: 0.867808219178082\n",
      "{'activation': 'logistic', 'alpha': 0.01, 'hidden_layer_sizes': 10, 'max_iter': 1000, 'solver': 'lbfgs'} Accuracy on training: 0.9924232728996326 Accuracy on validation: 0.845662100456621\n",
      "{'activation': 'logistic', 'alpha': 0.01, 'hidden_layer_sizes': 10, 'max_iter': 1000, 'solver': 'sgd'} Accuracy on training: 0.6198341035667733 Accuracy on validation: 0.6198249619482497\n",
      "{'activation': 'logistic', 'alpha': 0.01, 'hidden_layer_sizes': 10, 'max_iter': 1000, 'solver': 'adam'} Accuracy on training: 0.8863656831378126 Accuracy on validation: 0.8815068493150685\n",
      "{'activation': 'logistic', 'alpha': 0.01, 'hidden_layer_sizes': 10, 'max_iter': 2000, 'solver': 'lbfgs'} Accuracy on training: 0.9938025832444601 Accuracy on validation: 0.8155251141552512\n",
      "{'activation': 'logistic', 'alpha': 0.01, 'hidden_layer_sizes': 10, 'max_iter': 2000, 'solver': 'sgd'} Accuracy on training: 0.6198341035667733 Accuracy on validation: 0.6198249619482497\n",
      "{'activation': 'logistic', 'alpha': 0.01, 'hidden_layer_sizes': 10, 'max_iter': 2000, 'solver': 'adam'} Accuracy on training: 0.8884322787060078 Accuracy on validation: 0.8815068493150685\n",
      "{'activation': 'logistic', 'alpha': 0.01, 'hidden_layer_sizes': 100, 'max_iter': 100, 'solver': 'lbfgs'} Accuracy on training: 0.9132290555753052 Accuracy on validation: 0.8760654490106544\n",
      "{'activation': 'logistic', 'alpha': 0.01, 'hidden_layer_sizes': 100, 'max_iter': 100, 'solver': 'sgd'} Accuracy on training: 0.6198341035667733 Accuracy on validation: 0.6198249619482497\n",
      "{'activation': 'logistic', 'alpha': 0.01, 'hidden_layer_sizes': 100, 'max_iter': 100, 'solver': 'adam'} Accuracy on training: 0.8250669510605521 Accuracy on validation: 0.8237442922374429\n",
      "{'activation': 'logistic', 'alpha': 0.01, 'hidden_layer_sizes': 100, 'max_iter': 500, 'solver': 'lbfgs'} Accuracy on training: 0.9931129280720465 Accuracy on validation: 0.8485159817351597\n",
      "{'activation': 'logistic', 'alpha': 0.01, 'hidden_layer_sizes': 100, 'max_iter': 500, 'solver': 'sgd'} Accuracy on training: 0.6198341035667733 Accuracy on validation: 0.6198249619482497\n",
      "{'activation': 'logistic', 'alpha': 0.01, 'hidden_layer_sizes': 100, 'max_iter': 500, 'solver': 'adam'} Accuracy on training: 0.8918687048228463 Accuracy on validation: 0.8760273972602739\n",
      "{'activation': 'logistic', 'alpha': 0.01, 'hidden_layer_sizes': 100, 'max_iter': 1000, 'solver': 'lbfgs'} Accuracy on training: 0.9958668088636096 Accuracy on validation: 0.8320395738203958\n",
      "{'activation': 'logistic', 'alpha': 0.01, 'hidden_layer_sizes': 100, 'max_iter': 1000, 'solver': 'sgd'} Accuracy on training: 0.6198341035667733 Accuracy on validation: 0.6198249619482497\n",
      "{'activation': 'logistic', 'alpha': 0.01, 'hidden_layer_sizes': 100, 'max_iter': 1000, 'solver': 'adam'} Accuracy on training: 0.8911790496504326 Accuracy on validation: 0.8760654490106544\n",
      "{'activation': 'logistic', 'alpha': 0.01, 'hidden_layer_sizes': 100, 'max_iter': 2000, 'solver': 'lbfgs'} Accuracy on training: 0.9958668088636096 Accuracy on validation: 0.8512937595129376\n",
      "{'activation': 'logistic', 'alpha': 0.01, 'hidden_layer_sizes': 100, 'max_iter': 2000, 'solver': 'sgd'} Accuracy on training: 0.6198341035667733 Accuracy on validation: 0.6198249619482497\n",
      "{'activation': 'logistic', 'alpha': 0.01, 'hidden_layer_sizes': 100, 'max_iter': 2000, 'solver': 'adam'} Accuracy on training: 0.8932432752695817 Accuracy on validation: 0.8760654490106544\n",
      "{'activation': 'logistic', 'alpha': 0.001, 'hidden_layer_sizes': 5, 'max_iter': 100, 'solver': 'lbfgs'} Accuracy on training: 0.9297499703756369 Accuracy on validation: 0.8457382039573821\n",
      "{'activation': 'logistic', 'alpha': 0.001, 'hidden_layer_sizes': 5, 'max_iter': 100, 'solver': 'sgd'} Accuracy on training: 0.6260410001184975 Accuracy on validation: 0.6225646879756468\n",
      "{'activation': 'logistic', 'alpha': 0.001, 'hidden_layer_sizes': 5, 'max_iter': 100, 'solver': 'adam'} Accuracy on training: 0.6287901410119683 Accuracy on validation: 0.6337138508371385\n",
      "{'activation': 'logistic', 'alpha': 0.001, 'hidden_layer_sizes': 5, 'max_iter': 500, 'solver': 'lbfgs'} Accuracy on training: 0.9635098945372675 Accuracy on validation: 0.8291856925418568\n",
      "{'activation': 'logistic', 'alpha': 0.001, 'hidden_layer_sizes': 5, 'max_iter': 500, 'solver': 'sgd'} Accuracy on training: 0.6198341035667733 Accuracy on validation: 0.6198249619482497\n",
      "{'activation': 'logistic', 'alpha': 0.001, 'hidden_layer_sizes': 5, 'max_iter': 500, 'solver': 'adam'} Accuracy on training: 0.8519326934470909 Accuracy on validation: 0.8430365296803652\n",
      "{'activation': 'logistic', 'alpha': 0.001, 'hidden_layer_sizes': 5, 'max_iter': 1000, 'solver': 'lbfgs'} Accuracy on training: 0.9689963265789785 Accuracy on validation: 0.8456240487062404\n",
      "{'activation': 'logistic', 'alpha': 0.001, 'hidden_layer_sizes': 5, 'max_iter': 1000, 'solver': 'sgd'} Accuracy on training: 0.6198341035667733 Accuracy on validation: 0.6198249619482497\n",
      "{'activation': 'logistic', 'alpha': 0.001, 'hidden_layer_sizes': 5, 'max_iter': 1000, 'solver': 'adam'} Accuracy on training: 0.882926887071928 Accuracy on validation: 0.8787671232876711\n",
      "{'activation': 'logistic', 'alpha': 0.001, 'hidden_layer_sizes': 5, 'max_iter': 2000, 'solver': 'lbfgs'} Accuracy on training: 0.9655622704111861 Accuracy on validation: 0.8292998477929985\n",
      "{'activation': 'logistic', 'alpha': 0.001, 'hidden_layer_sizes': 5, 'max_iter': 2000, 'solver': 'sgd'} Accuracy on training: 0.6198341035667733 Accuracy on validation: 0.6198249619482497\n",
      "{'activation': 'logistic', 'alpha': 0.001, 'hidden_layer_sizes': 5, 'max_iter': 2000, 'solver': 'adam'} Accuracy on training: 0.8856760279653988 Accuracy on validation: 0.8787671232876711\n",
      "{'activation': 'logistic', 'alpha': 0.001, 'hidden_layer_sizes': 10, 'max_iter': 100, 'solver': 'lbfgs'} Accuracy on training: 0.9717644270648181 Accuracy on validation: 0.8403348554033485\n",
      "{'activation': 'logistic', 'alpha': 0.001, 'hidden_layer_sizes': 10, 'max_iter': 100, 'solver': 'sgd'} Accuracy on training: 0.6198341035667733 Accuracy on validation: 0.6198249619482497\n",
      "{'activation': 'logistic', 'alpha': 0.001, 'hidden_layer_sizes': 10, 'max_iter': 100, 'solver': 'adam'} Accuracy on training: 0.632928072046451 Accuracy on validation: 0.6253044140030442\n",
      "{'activation': 'logistic', 'alpha': 0.001, 'hidden_layer_sizes': 10, 'max_iter': 500, 'solver': 'lbfgs'} Accuracy on training: 1.0 Accuracy on validation: 0.8099315068493151\n",
      "{'activation': 'logistic', 'alpha': 0.001, 'hidden_layer_sizes': 10, 'max_iter': 500, 'solver': 'sgd'} Accuracy on training: 0.6198341035667733 Accuracy on validation: 0.6198249619482497\n",
      "{'activation': 'logistic', 'alpha': 0.001, 'hidden_layer_sizes': 10, 'max_iter': 500, 'solver': 'adam'} Accuracy on training: 0.8643346368053088 Accuracy on validation: 0.8595890410958905\n",
      "{'activation': 'logistic', 'alpha': 0.001, 'hidden_layer_sizes': 10, 'max_iter': 1000, 'solver': 'lbfgs'} Accuracy on training: 0.9993103448275862 Accuracy on validation: 0.8155251141552512\n",
      "{'activation': 'logistic', 'alpha': 0.001, 'hidden_layer_sizes': 10, 'max_iter': 1000, 'solver': 'sgd'} Accuracy on training: 0.6198341035667733 Accuracy on validation: 0.6198249619482497\n",
      "{'activation': 'logistic', 'alpha': 0.001, 'hidden_layer_sizes': 10, 'max_iter': 1000, 'solver': 'adam'} Accuracy on training: 0.8891195639293755 Accuracy on validation: 0.8815068493150685\n",
      "{'activation': 'logistic', 'alpha': 0.001, 'hidden_layer_sizes': 10, 'max_iter': 2000, 'solver': 'lbfgs'} Accuracy on training: 1.0 Accuracy on validation: 0.793531202435312\n",
      "{'activation': 'logistic', 'alpha': 0.001, 'hidden_layer_sizes': 10, 'max_iter': 2000, 'solver': 'sgd'} Accuracy on training: 0.6198341035667733 Accuracy on validation: 0.6198249619482497\n",
      "{'activation': 'logistic', 'alpha': 0.001, 'hidden_layer_sizes': 10, 'max_iter': 2000, 'solver': 'adam'} Accuracy on training: 0.8870529683611803 Accuracy on validation: 0.8760273972602739\n",
      "{'activation': 'logistic', 'alpha': 0.001, 'hidden_layer_sizes': 100, 'max_iter': 100, 'solver': 'lbfgs'} Accuracy on training: 0.9214812181538099 Accuracy on validation: 0.862214611872146\n",
      "{'activation': 'logistic', 'alpha': 0.001, 'hidden_layer_sizes': 100, 'max_iter': 100, 'solver': 'sgd'} Accuracy on training: 0.6198341035667733 Accuracy on validation: 0.6198249619482497\n",
      "{'activation': 'logistic', 'alpha': 0.001, 'hidden_layer_sizes': 100, 'max_iter': 100, 'solver': 'adam'} Accuracy on training: 0.8202298850574714 Accuracy on validation: 0.8100837138508371\n",
      "{'activation': 'logistic', 'alpha': 0.001, 'hidden_layer_sizes': 100, 'max_iter': 500, 'solver': 'lbfgs'} Accuracy on training: 1.0 Accuracy on validation: 0.8568493150684932\n",
      "{'activation': 'logistic', 'alpha': 0.001, 'hidden_layer_sizes': 100, 'max_iter': 500, 'solver': 'sgd'} Accuracy on training: 0.6198341035667733 Accuracy on validation: 0.6198249619482497\n",
      "{'activation': 'logistic', 'alpha': 0.001, 'hidden_layer_sizes': 100, 'max_iter': 500, 'solver': 'adam'} Accuracy on training: 0.8932409053205357 Accuracy on validation: 0.8788051750380518\n",
      "{'activation': 'logistic', 'alpha': 0.001, 'hidden_layer_sizes': 100, 'max_iter': 1000, 'solver': 'lbfgs'} Accuracy on training: 1.0 Accuracy on validation: 0.8568873668188737\n",
      "{'activation': 'logistic', 'alpha': 0.001, 'hidden_layer_sizes': 100, 'max_iter': 1000, 'solver': 'sgd'} Accuracy on training: 0.6198341035667733 Accuracy on validation: 0.6198249619482497\n",
      "{'activation': 'logistic', 'alpha': 0.001, 'hidden_layer_sizes': 100, 'max_iter': 1000, 'solver': 'adam'} Accuracy on training: 0.8911766797013865 Accuracy on validation: 0.8788432267884321\n",
      "{'activation': 'logistic', 'alpha': 0.001, 'hidden_layer_sizes': 100, 'max_iter': 2000, 'solver': 'lbfgs'} Accuracy on training: 1.0 Accuracy on validation: 0.8237062404870624\n",
      "{'activation': 'logistic', 'alpha': 0.001, 'hidden_layer_sizes': 100, 'max_iter': 2000, 'solver': 'sgd'} Accuracy on training: 0.6198341035667733 Accuracy on validation: 0.6198249619482497\n",
      "{'activation': 'logistic', 'alpha': 0.001, 'hidden_layer_sizes': 100, 'max_iter': 2000, 'solver': 'adam'} Accuracy on training: 0.8918663348738003 Accuracy on validation: 0.8788051750380518\n",
      "{'activation': 'tanh', 'alpha': 0.01, 'hidden_layer_sizes': 5, 'max_iter': 100, 'solver': 'lbfgs'} Accuracy on training: 0.94903187581467 Accuracy on validation: 0.8455859969558601\n",
      "{'activation': 'tanh', 'alpha': 0.01, 'hidden_layer_sizes': 5, 'max_iter': 100, 'solver': 'sgd'} Accuracy on training: 0.6611778646759096 Accuracy on validation: 0.6527777777777778\n",
      "{'activation': 'tanh', 'alpha': 0.01, 'hidden_layer_sizes': 5, 'max_iter': 100, 'solver': 'adam'} Accuracy on training: 0.734193624837066 Accuracy on validation: 0.752130898021309\n",
      "{'activation': 'tanh', 'alpha': 0.01, 'hidden_layer_sizes': 5, 'max_iter': 500, 'solver': 'lbfgs'} Accuracy on training: 0.9573029979855432 Accuracy on validation: 0.8348934550989344\n",
      "{'activation': 'tanh', 'alpha': 0.01, 'hidden_layer_sizes': 5, 'max_iter': 500, 'solver': 'sgd'} Accuracy on training: 0.8305557530513095 Accuracy on validation: 0.8210045662100457\n",
      "{'activation': 'tanh', 'alpha': 0.01, 'hidden_layer_sizes': 5, 'max_iter': 500, 'solver': 'adam'} Accuracy on training: 0.8801777461784571 Accuracy on validation: 0.8705098934550989\n",
      "{'activation': 'tanh', 'alpha': 0.01, 'hidden_layer_sizes': 5, 'max_iter': 1000, 'solver': 'lbfgs'} Accuracy on training: 0.9738310226330134 Accuracy on validation: 0.8155251141552512\n",
      "{'activation': 'tanh', 'alpha': 0.01, 'hidden_layer_sizes': 5, 'max_iter': 1000, 'solver': 'sgd'} Accuracy on training: 0.869155113165067 Accuracy on validation: 0.8622526636225265\n",
      "{'activation': 'tanh', 'alpha': 0.01, 'hidden_layer_sizes': 5, 'max_iter': 1000, 'solver': 'adam'} Accuracy on training: 0.8897973693565587 Accuracy on validation: 0.8732496194824961\n",
      "{'activation': 'tanh', 'alpha': 0.01, 'hidden_layer_sizes': 5, 'max_iter': 2000, 'solver': 'lbfgs'} Accuracy on training: 0.9765920132717147 Accuracy on validation: 0.8209284627092848\n",
      "{'activation': 'tanh', 'alpha': 0.01, 'hidden_layer_sizes': 5, 'max_iter': 2000, 'solver': 'sgd'} Accuracy on training: 0.8719018841094917 Accuracy on validation: 0.8649923896499239\n",
      "{'activation': 'tanh', 'alpha': 0.01, 'hidden_layer_sizes': 5, 'max_iter': 2000, 'solver': 'adam'} Accuracy on training: 0.8918710747718924 Accuracy on validation: 0.8760273972602739\n",
      "{'activation': 'tanh', 'alpha': 0.01, 'hidden_layer_sizes': 10, 'max_iter': 100, 'solver': 'lbfgs'} Accuracy on training: 0.9641734802701742 Accuracy on validation: 0.834627092846271\n",
      "{'activation': 'tanh', 'alpha': 0.01, 'hidden_layer_sizes': 10, 'max_iter': 100, 'solver': 'sgd'} Accuracy on training: 0.6466832563099894 Accuracy on validation: 0.6333333333333334\n",
      "{'activation': 'tanh', 'alpha': 0.01, 'hidden_layer_sizes': 10, 'max_iter': 100, 'solver': 'adam'} Accuracy on training: 0.8140680175376229 Accuracy on validation: 0.8044520547945206\n",
      "{'activation': 'tanh', 'alpha': 0.01, 'hidden_layer_sizes': 10, 'max_iter': 500, 'solver': 'lbfgs'} Accuracy on training: 0.9993103448275862 Accuracy on validation: 0.8318493150684931\n",
      "{'activation': 'tanh', 'alpha': 0.01, 'hidden_layer_sizes': 10, 'max_iter': 500, 'solver': 'sgd'} Accuracy on training: 0.8512501481218153 Accuracy on validation: 0.8539954337899542\n",
      "{'activation': 'tanh', 'alpha': 0.01, 'hidden_layer_sizes': 10, 'max_iter': 500, 'solver': 'adam'} Accuracy on training: 0.888434648655054 Accuracy on validation: 0.8787671232876711\n",
      "{'activation': 'tanh', 'alpha': 0.01, 'hidden_layer_sizes': 10, 'max_iter': 1000, 'solver': 'lbfgs'} Accuracy on training: 0.9993103448275862 Accuracy on validation: 0.8404109589041096\n",
      "{'activation': 'tanh', 'alpha': 0.01, 'hidden_layer_sizes': 10, 'max_iter': 1000, 'solver': 'sgd'} Accuracy on training: 0.8643251570091243 Accuracy on validation: 0.8595509893455098\n",
      "{'activation': 'tanh', 'alpha': 0.01, 'hidden_layer_sizes': 10, 'max_iter': 1000, 'solver': 'adam'} Accuracy on training: 0.8918734447209384 Accuracy on validation: 0.8732876712328768\n",
      "{'activation': 'tanh', 'alpha': 0.01, 'hidden_layer_sizes': 10, 'max_iter': 2000, 'solver': 'lbfgs'} Accuracy on training: 0.9993103448275862 Accuracy on validation: 0.8072298325722983\n",
      "{'activation': 'tanh', 'alpha': 0.01, 'hidden_layer_sizes': 10, 'max_iter': 2000, 'solver': 'sgd'} Accuracy on training: 0.8725915392819055 Accuracy on validation: 0.8623668188736682\n",
      "{'activation': 'tanh', 'alpha': 0.01, 'hidden_layer_sizes': 10, 'max_iter': 2000, 'solver': 'adam'} Accuracy on training: 0.8884251688588696 Accuracy on validation: 0.8760654490106544\n",
      "{'activation': 'tanh', 'alpha': 0.01, 'hidden_layer_sizes': 100, 'max_iter': 100, 'solver': 'lbfgs'} Accuracy on training: 0.9662519255836 Accuracy on validation: 0.8542237442922375\n",
      "{'activation': 'tanh', 'alpha': 0.01, 'hidden_layer_sizes': 100, 'max_iter': 100, 'solver': 'sgd'} Accuracy on training: 0.7417229529565115 Accuracy on validation: 0.7299847792998477\n",
      "{'activation': 'tanh', 'alpha': 0.01, 'hidden_layer_sizes': 100, 'max_iter': 100, 'solver': 'adam'} Accuracy on training: 0.8691432634198364 Accuracy on validation: 0.8677701674277017\n",
      "{'activation': 'tanh', 'alpha': 0.01, 'hidden_layer_sizes': 100, 'max_iter': 500, 'solver': 'lbfgs'} Accuracy on training: 1.0 Accuracy on validation: 0.8401826484018265\n",
      "{'activation': 'tanh', 'alpha': 0.01, 'hidden_layer_sizes': 100, 'max_iter': 500, 'solver': 'sgd'} Accuracy on training: 0.8560658845834815 Accuracy on validation: 0.8567351598173516\n",
      "{'activation': 'tanh', 'alpha': 0.01, 'hidden_layer_sizes': 100, 'max_iter': 500, 'solver': 'adam'} Accuracy on training: 0.8966915511316506 Accuracy on validation: 0.8871004566210047\n",
      "{'activation': 'tanh', 'alpha': 0.01, 'hidden_layer_sizes': 100, 'max_iter': 1000, 'solver': 'lbfgs'} Accuracy on training: 1.0 Accuracy on validation: 0.8431506849315069\n",
      "{'activation': 'tanh', 'alpha': 0.01, 'hidden_layer_sizes': 100, 'max_iter': 1000, 'solver': 'sgd'} Accuracy on training: 0.8732788245052732 Accuracy on validation: 0.8705479452054794\n",
      "{'activation': 'tanh', 'alpha': 0.01, 'hidden_layer_sizes': 100, 'max_iter': 1000, 'solver': 'adam'} Accuracy on training: 0.9001350870956275 Accuracy on validation: 0.8871004566210047\n",
      "{'activation': 'tanh', 'alpha': 0.01, 'hidden_layer_sizes': 100, 'max_iter': 2000, 'solver': 'lbfgs'} Accuracy on training: 1.0 Accuracy on validation: 0.8292998477929985\n",
      "{'activation': 'tanh', 'alpha': 0.01, 'hidden_layer_sizes': 100, 'max_iter': 2000, 'solver': 'sgd'} Accuracy on training: 0.8718971442113995 Accuracy on validation: 0.8650684931506849\n",
      "{'activation': 'tanh', 'alpha': 0.01, 'hidden_layer_sizes': 100, 'max_iter': 2000, 'solver': 'adam'} Accuracy on training: 0.8980732314255244 Accuracy on validation: 0.8925799086757991\n",
      "{'activation': 'tanh', 'alpha': 0.001, 'hidden_layer_sizes': 5, 'max_iter': 100, 'solver': 'lbfgs'} Accuracy on training: 0.9435383339258205 Accuracy on validation: 0.8569254185692541\n",
      "{'activation': 'tanh', 'alpha': 0.001, 'hidden_layer_sizes': 5, 'max_iter': 100, 'solver': 'sgd'} Accuracy on training: 0.7272757435715133 Accuracy on validation: 0.7134703196347032\n",
      "{'activation': 'tanh', 'alpha': 0.001, 'hidden_layer_sizes': 5, 'max_iter': 100, 'solver': 'adam'} Accuracy on training: 0.7734565706837303 Accuracy on validation: 0.7603120243531203\n",
      "{'activation': 'tanh', 'alpha': 0.001, 'hidden_layer_sizes': 5, 'max_iter': 500, 'solver': 'lbfgs'} Accuracy on training: 0.9669486906031521 Accuracy on validation: 0.8403729071537291\n",
      "{'activation': 'tanh', 'alpha': 0.001, 'hidden_layer_sizes': 5, 'max_iter': 500, 'solver': 'sgd'} Accuracy on training: 0.8216020855551605 Accuracy on validation: 0.8209665144596651\n",
      "{'activation': 'tanh', 'alpha': 0.001, 'hidden_layer_sizes': 5, 'max_iter': 500, 'solver': 'adam'} Accuracy on training: 0.8767271003673421 Accuracy on validation: 0.8732496194824961\n",
      "{'activation': 'tanh', 'alpha': 0.001, 'hidden_layer_sizes': 5, 'max_iter': 1000, 'solver': 'lbfgs'} Accuracy on training: 0.9690176561203934 Accuracy on validation: 0.8181126331811264\n",
      "{'activation': 'tanh', 'alpha': 0.001, 'hidden_layer_sizes': 5, 'max_iter': 1000, 'solver': 'sgd'} Accuracy on training: 0.8663988624244577 Accuracy on validation: 0.8815068493150685\n",
      "{'activation': 'tanh', 'alpha': 0.001, 'hidden_layer_sizes': 5, 'max_iter': 1000, 'solver': 'adam'} Accuracy on training: 0.8911790496504326 Accuracy on validation: 0.8760273972602739\n",
      "{'activation': 'tanh', 'alpha': 0.001, 'hidden_layer_sizes': 5, 'max_iter': 2000, 'solver': 'lbfgs'} Accuracy on training: 0.9662756250740608 Accuracy on validation: 0.81837899543379\n",
      "{'activation': 'tanh', 'alpha': 0.001, 'hidden_layer_sizes': 5, 'max_iter': 2000, 'solver': 'sgd'} Accuracy on training: 0.866401232373504 Accuracy on validation: 0.8568112633181126\n",
      "{'activation': 'tanh', 'alpha': 0.001, 'hidden_layer_sizes': 5, 'max_iter': 2000, 'solver': 'adam'} Accuracy on training: 0.8911814195994786 Accuracy on validation: 0.867732115677321\n",
      "{'activation': 'tanh', 'alpha': 0.001, 'hidden_layer_sizes': 10, 'max_iter': 100, 'solver': 'lbfgs'} Accuracy on training: 0.9662566654816922 Accuracy on validation: 0.8183409436834094\n",
      "{'activation': 'tanh', 'alpha': 0.001, 'hidden_layer_sizes': 10, 'max_iter': 100, 'solver': 'sgd'} Accuracy on training: 0.6742268041237114 Accuracy on validation: 0.6640410958904109\n",
      "{'activation': 'tanh', 'alpha': 0.001, 'hidden_layer_sizes': 10, 'max_iter': 100, 'solver': 'adam'} Accuracy on training: 0.7871240668325631 Accuracy on validation: 0.7717275494672755\n",
      "{'activation': 'tanh', 'alpha': 0.001, 'hidden_layer_sizes': 10, 'max_iter': 500, 'solver': 'lbfgs'} Accuracy on training: 0.9931224078682309 Accuracy on validation: 0.801826484018265\n",
      "{'activation': 'tanh', 'alpha': 0.001, 'hidden_layer_sizes': 10, 'max_iter': 500, 'solver': 'sgd'} Accuracy on training: 0.8409053205356084 Accuracy on validation: 0.8292998477929985\n",
      "{'activation': 'tanh', 'alpha': 0.001, 'hidden_layer_sizes': 10, 'max_iter': 500, 'solver': 'adam'} Accuracy on training: 0.8877355136864556 Accuracy on validation: 0.8732115677321156\n",
      "{'activation': 'tanh', 'alpha': 0.001, 'hidden_layer_sizes': 10, 'max_iter': 1000, 'solver': 'lbfgs'} Accuracy on training: 0.9958668088636096 Accuracy on validation: 0.8101217656012176\n",
      "{'activation': 'tanh', 'alpha': 0.001, 'hidden_layer_sizes': 10, 'max_iter': 1000, 'solver': 'sgd'} Accuracy on training: 0.8691527432160209 Accuracy on validation: 0.8760654490106546\n",
      "{'activation': 'tanh', 'alpha': 0.001, 'hidden_layer_sizes': 10, 'max_iter': 1000, 'solver': 'adam'} Accuracy on training: 0.8884393885531461 Accuracy on validation: 0.8760654490106544\n",
      "{'activation': 'tanh', 'alpha': 0.001, 'hidden_layer_sizes': 10, 'max_iter': 2000, 'solver': 'lbfgs'} Accuracy on training: 0.9993103448275862 Accuracy on validation: 0.8183028919330289\n",
      "{'activation': 'tanh', 'alpha': 0.001, 'hidden_layer_sizes': 10, 'max_iter': 2000, 'solver': 'sgd'} Accuracy on training: 0.8719018841094917 Accuracy on validation: 0.8595890410958905\n",
      "{'activation': 'tanh', 'alpha': 0.001, 'hidden_layer_sizes': 10, 'max_iter': 2000, 'solver': 'adam'} Accuracy on training: 0.8925583599952601 Accuracy on validation: 0.867732115677321\n",
      "{'activation': 'tanh', 'alpha': 0.001, 'hidden_layer_sizes': 100, 'max_iter': 100, 'solver': 'lbfgs'} Accuracy on training: 0.9621187344472094 Accuracy on validation: 0.8375570776255706\n",
      "{'activation': 'tanh', 'alpha': 0.001, 'hidden_layer_sizes': 100, 'max_iter': 100, 'solver': 'sgd'} Accuracy on training: 0.7465363194691313 Accuracy on validation: 0.7274733637747336\n",
      "{'activation': 'tanh', 'alpha': 0.001, 'hidden_layer_sizes': 100, 'max_iter': 100, 'solver': 'adam'} Accuracy on training: 0.8753383102263301 Accuracy on validation: 0.8705098934550989\n",
      "{'activation': 'tanh', 'alpha': 0.001, 'hidden_layer_sizes': 100, 'max_iter': 500, 'solver': 'lbfgs'} Accuracy on training: 1.0 Accuracy on validation: 0.8348173515981735\n",
      "{'activation': 'tanh', 'alpha': 0.001, 'hidden_layer_sizes': 100, 'max_iter': 500, 'solver': 'sgd'} Accuracy on training: 0.8533072638938263 Accuracy on validation: 0.8540715372907155\n",
      "{'activation': 'tanh', 'alpha': 0.001, 'hidden_layer_sizes': 100, 'max_iter': 500, 'solver': 'adam'} Accuracy on training: 0.8980708614764783 Accuracy on validation: 0.8898401826484019\n",
      "{'activation': 'tanh', 'alpha': 0.001, 'hidden_layer_sizes': 100, 'max_iter': 1000, 'solver': 'lbfgs'} Accuracy on training: 1.0 Accuracy on validation: 0.8376331811263318\n",
      "{'activation': 'tanh', 'alpha': 0.001, 'hidden_layer_sizes': 100, 'max_iter': 1000, 'solver': 'sgd'} Accuracy on training: 0.8719066240075838 Accuracy on validation: 0.8705098934550989\n",
      "{'activation': 'tanh', 'alpha': 0.001, 'hidden_layer_sizes': 100, 'max_iter': 1000, 'solver': 'adam'} Accuracy on training: 0.8980708614764783 Accuracy on validation: 0.8926179604261796\n",
      "{'activation': 'tanh', 'alpha': 0.001, 'hidden_layer_sizes': 100, 'max_iter': 2000, 'solver': 'lbfgs'} Accuracy on training: 1.0 Accuracy on validation: 0.8347031963470319\n",
      "{'activation': 'tanh', 'alpha': 0.001, 'hidden_layer_sizes': 100, 'max_iter': 2000, 'solver': 'sgd'} Accuracy on training: 0.8705249437137101 Accuracy on validation: 0.867808219178082\n",
      "{'activation': 'tanh', 'alpha': 0.001, 'hidden_layer_sizes': 100, 'max_iter': 2000, 'solver': 'adam'} Accuracy on training: 0.8960042659082829 Accuracy on validation: 0.8925799086757991\n",
      "{'activation': 'relu', 'alpha': 0.01, 'hidden_layer_sizes': 5, 'max_iter': 100, 'solver': 'lbfgs'} Accuracy on training: 0.9111506102618794 Accuracy on validation: 0.8705098934550989\n",
      "{'activation': 'relu', 'alpha': 0.01, 'hidden_layer_sizes': 5, 'max_iter': 100, 'solver': 'sgd'} Accuracy on training: 0.6011257257968954 Accuracy on validation: 0.6198249619482497\n",
      "{'activation': 'relu', 'alpha': 0.01, 'hidden_layer_sizes': 5, 'max_iter': 100, 'solver': 'adam'} Accuracy on training: 0.7809456096693922 Accuracy on validation: 0.7880517503805176\n",
      "{'activation': 'relu', 'alpha': 0.01, 'hidden_layer_sizes': 5, 'max_iter': 500, 'solver': 'lbfgs'} Accuracy on training: 0.9194430619741676 Accuracy on validation: 0.8761415525114156\n",
      "{'activation': 'relu', 'alpha': 0.01, 'hidden_layer_sizes': 5, 'max_iter': 500, 'solver': 'sgd'} Accuracy on training: 0.7417063633131887 Accuracy on validation: 0.7218417047184171\n",
      "{'activation': 'relu', 'alpha': 0.01, 'hidden_layer_sizes': 5, 'max_iter': 500, 'solver': 'adam'} Accuracy on training: 0.865709207252044 Accuracy on validation: 0.8429984779299847\n",
      "{'activation': 'relu', 'alpha': 0.01, 'hidden_layer_sizes': 5, 'max_iter': 1000, 'solver': 'lbfgs'} Accuracy on training: 0.9187249674132006 Accuracy on validation: 0.8897640791476407\n",
      "{'activation': 'relu', 'alpha': 0.01, 'hidden_layer_sizes': 5, 'max_iter': 1000, 'solver': 'sgd'} Accuracy on training: 0.756947505628629 Accuracy on validation: 0.7519025875190258\n",
      "{'activation': 'relu', 'alpha': 0.01, 'hidden_layer_sizes': 5, 'max_iter': 1000, 'solver': 'adam'} Accuracy on training: 0.8898021092546511 Accuracy on validation: 0.8677701674277015\n",
      "{'activation': 'relu', 'alpha': 0.01, 'hidden_layer_sizes': 5, 'max_iter': 2000, 'solver': 'lbfgs'} Accuracy on training: 0.9132195757791207 Accuracy on validation: 0.8595890410958903\n",
      "{'activation': 'relu', 'alpha': 0.01, 'hidden_layer_sizes': 5, 'max_iter': 2000, 'solver': 'sgd'} Accuracy on training: 0.8739661097286409 Accuracy on validation: 0.8650304414003045\n",
      "{'activation': 'relu', 'alpha': 0.01, 'hidden_layer_sizes': 5, 'max_iter': 2000, 'solver': 'adam'} Accuracy on training: 0.8925630998933523 Accuracy on validation: 0.8649923896499239\n",
      "{'activation': 'relu', 'alpha': 0.01, 'hidden_layer_sizes': 10, 'max_iter': 100, 'solver': 'lbfgs'} Accuracy on training: 0.9249200142196944 Accuracy on validation: 0.8594368340943683\n",
      "{'activation': 'relu', 'alpha': 0.01, 'hidden_layer_sizes': 10, 'max_iter': 100, 'solver': 'sgd'} Accuracy on training: 0.5881858040052139 Accuracy on validation: 0.5868340943683409\n",
      "{'activation': 'relu', 'alpha': 0.01, 'hidden_layer_sizes': 10, 'max_iter': 100, 'solver': 'adam'} Accuracy on training: 0.793349922976656 Accuracy on validation: 0.7742389649923896\n",
      "{'activation': 'relu', 'alpha': 0.01, 'hidden_layer_sizes': 10, 'max_iter': 500, 'solver': 'lbfgs'} Accuracy on training: 0.9366180827112217 Accuracy on validation: 0.8374809741248097\n",
      "{'activation': 'relu', 'alpha': 0.01, 'hidden_layer_sizes': 10, 'max_iter': 500, 'solver': 'sgd'} Accuracy on training: 0.7817395425998341 Accuracy on validation: 0.773972602739726\n",
      "{'activation': 'relu', 'alpha': 0.01, 'hidden_layer_sizes': 10, 'max_iter': 500, 'solver': 'adam'} Accuracy on training: 0.8898021092546511 Accuracy on validation: 0.886986301369863\n",
      "{'activation': 'relu', 'alpha': 0.01, 'hidden_layer_sizes': 10, 'max_iter': 1000, 'solver': 'lbfgs'} Accuracy on training: 0.9703685270766679 Accuracy on validation: 0.834779299847793\n",
      "{'activation': 'relu', 'alpha': 0.01, 'hidden_layer_sizes': 10, 'max_iter': 1000, 'solver': 'sgd'} Accuracy on training: 0.8567436900106647 Accuracy on validation: 0.8430745814307459\n",
      "{'activation': 'relu', 'alpha': 0.01, 'hidden_layer_sizes': 10, 'max_iter': 1000, 'solver': 'adam'} Accuracy on training: 0.8918710747718924 Accuracy on validation: 0.8787671232876711\n",
      "{'activation': 'relu', 'alpha': 0.01, 'hidden_layer_sizes': 10, 'max_iter': 2000, 'solver': 'lbfgs'} Accuracy on training: 0.9531745467472449 Accuracy on validation: 0.8292237442922374\n",
      "{'activation': 'relu', 'alpha': 0.01, 'hidden_layer_sizes': 10, 'max_iter': 2000, 'solver': 'sgd'} Accuracy on training: 0.8787842161393531 Accuracy on validation: 0.8677701674277015\n",
      "{'activation': 'relu', 'alpha': 0.01, 'hidden_layer_sizes': 10, 'max_iter': 2000, 'solver': 'adam'} Accuracy on training: 0.8925630998933523 Accuracy on validation: 0.8760654490106546\n",
      "{'activation': 'relu', 'alpha': 0.01, 'hidden_layer_sizes': 100, 'max_iter': 100, 'solver': 'lbfgs'} Accuracy on training: 0.9614267093257496 Accuracy on validation: 0.8733257229832571\n",
      "{'activation': 'relu', 'alpha': 0.01, 'hidden_layer_sizes': 100, 'max_iter': 100, 'solver': 'sgd'} Accuracy on training: 0.7087498518781846 Accuracy on validation: 0.7188736681887367\n",
      "{'activation': 'relu', 'alpha': 0.01, 'hidden_layer_sizes': 100, 'max_iter': 100, 'solver': 'adam'} Accuracy on training: 0.8829221471738358 Accuracy on validation: 0.8787671232876711\n",
      "{'activation': 'relu', 'alpha': 0.01, 'hidden_layer_sizes': 100, 'max_iter': 500, 'solver': 'lbfgs'} Accuracy on training: 0.9993103448275862 Accuracy on validation: 0.8237442922374429\n",
      "{'activation': 'relu', 'alpha': 0.01, 'hidden_layer_sizes': 100, 'max_iter': 500, 'solver': 'sgd'} Accuracy on training: 0.8457423865386895 Accuracy on validation: 0.8291476407914764\n",
      "{'activation': 'relu', 'alpha': 0.01, 'hidden_layer_sizes': 100, 'max_iter': 500, 'solver': 'adam'} Accuracy on training: 0.9056475885768457 Accuracy on validation: 0.8788812785388128\n",
      "{'activation': 'relu', 'alpha': 0.01, 'hidden_layer_sizes': 100, 'max_iter': 1000, 'solver': 'lbfgs'} Accuracy on training: 1.0 Accuracy on validation: 0.8320395738203956\n",
      "{'activation': 'relu', 'alpha': 0.01, 'hidden_layer_sizes': 100, 'max_iter': 1000, 'solver': 'sgd'} Accuracy on training: 0.8705249437137101 Accuracy on validation: 0.867808219178082\n",
      "{'activation': 'relu', 'alpha': 0.01, 'hidden_layer_sizes': 100, 'max_iter': 1000, 'solver': 'adam'} Accuracy on training: 0.9166678516411897 Accuracy on validation: 0.8788812785388128\n",
      "{'activation': 'relu', 'alpha': 0.01, 'hidden_layer_sizes': 100, 'max_iter': 2000, 'solver': 'lbfgs'} Accuracy on training: 1.0 Accuracy on validation: 0.8541095890410958\n",
      "{'activation': 'relu', 'alpha': 0.01, 'hidden_layer_sizes': 100, 'max_iter': 2000, 'solver': 'sgd'} Accuracy on training: 0.8739661097286409 Accuracy on validation: 0.8650684931506849\n",
      "{'activation': 'relu', 'alpha': 0.01, 'hidden_layer_sizes': 100, 'max_iter': 2000, 'solver': 'adam'} Accuracy on training: 0.9249294940158788 Accuracy on validation: 0.8761035007610352\n",
      "{'activation': 'relu', 'alpha': 0.001, 'hidden_layer_sizes': 5, 'max_iter': 100, 'solver': 'lbfgs'} Accuracy on training: 0.9097855196113283 Accuracy on validation: 0.8760654490106544\n",
      "{'activation': 'relu', 'alpha': 0.001, 'hidden_layer_sizes': 5, 'max_iter': 100, 'solver': 'sgd'} Accuracy on training: 0.5702168503377176 Accuracy on validation: 0.5237062404870624\n",
      "{'activation': 'relu', 'alpha': 0.001, 'hidden_layer_sizes': 5, 'max_iter': 100, 'solver': 'adam'} Accuracy on training: 0.7541841450408817 Accuracy on validation: 0.7490867579908675\n",
      "{'activation': 'relu', 'alpha': 0.001, 'hidden_layer_sizes': 5, 'max_iter': 500, 'solver': 'lbfgs'} Accuracy on training: 0.9228605284986374 Accuracy on validation: 0.8815829528158294\n",
      "{'activation': 'relu', 'alpha': 0.001, 'hidden_layer_sizes': 5, 'max_iter': 500, 'solver': 'sgd'} Accuracy on training: 0.830569972745586 Accuracy on validation: 0.8210045662100457\n",
      "{'activation': 'relu', 'alpha': 0.001, 'hidden_layer_sizes': 5, 'max_iter': 500, 'solver': 'adam'} Accuracy on training: 0.8836094323972036 Accuracy on validation: 0.8759893455098935\n",
      "{'activation': 'relu', 'alpha': 0.001, 'hidden_layer_sizes': 5, 'max_iter': 1000, 'solver': 'lbfgs'} Accuracy on training: 0.9173527669155114 Accuracy on validation: 0.8705098934550989\n",
      "{'activation': 'relu', 'alpha': 0.001, 'hidden_layer_sizes': 5, 'max_iter': 1000, 'solver': 'sgd'} Accuracy on training: 0.860170636331319 Accuracy on validation: 0.8486681887366817\n",
      "{'activation': 'relu', 'alpha': 0.001, 'hidden_layer_sizes': 5, 'max_iter': 1000, 'solver': 'adam'} Accuracy on training: 0.8870411186159497 Accuracy on validation: 0.8678082191780823\n",
      "{'activation': 'relu', 'alpha': 0.001, 'hidden_layer_sizes': 5, 'max_iter': 2000, 'solver': 'lbfgs'} Accuracy on training: 0.9187297073112928 Accuracy on validation: 0.8650304414003044\n",
      "{'activation': 'relu', 'alpha': 0.001, 'hidden_layer_sizes': 5, 'max_iter': 2000, 'solver': 'sgd'} Accuracy on training: 0.8739637397795947 Accuracy on validation: 0.8650684931506849\n",
      "{'activation': 'relu', 'alpha': 0.001, 'hidden_layer_sizes': 5, 'max_iter': 2000, 'solver': 'adam'} Accuracy on training: 0.8898115890508353 Accuracy on validation: 0.8677701674277015\n",
      "{'activation': 'relu', 'alpha': 0.001, 'hidden_layer_sizes': 10, 'max_iter': 100, 'solver': 'lbfgs'} Accuracy on training: 0.9256381087806611 Accuracy on validation: 0.8512176560121766\n",
      "{'activation': 'relu', 'alpha': 0.001, 'hidden_layer_sizes': 10, 'max_iter': 100, 'solver': 'sgd'} Accuracy on training: 0.679132598649129 Accuracy on validation: 0.6528158295281583\n",
      "{'activation': 'relu', 'alpha': 0.001, 'hidden_layer_sizes': 10, 'max_iter': 100, 'solver': 'adam'} Accuracy on training: 0.7809716791088992 Accuracy on validation: 0.7797564687975648\n",
      "{'activation': 'relu', 'alpha': 0.001, 'hidden_layer_sizes': 10, 'max_iter': 500, 'solver': 'lbfgs'} Accuracy on training: 0.9538405024291977 Accuracy on validation: 0.8235920852359209\n",
      "{'activation': 'relu', 'alpha': 0.001, 'hidden_layer_sizes': 10, 'max_iter': 500, 'solver': 'sgd'} Accuracy on training: 0.8312596279179998 Accuracy on validation: 0.8183409436834095\n",
      "{'activation': 'relu', 'alpha': 0.001, 'hidden_layer_sizes': 10, 'max_iter': 500, 'solver': 'adam'} Accuracy on training: 0.8898092191017893 Accuracy on validation: 0.8842846270928462\n",
      "{'activation': 'relu', 'alpha': 0.001, 'hidden_layer_sizes': 10, 'max_iter': 1000, 'solver': 'lbfgs'} Accuracy on training: 0.9614267093257496 Accuracy on validation: 0.8347031963470319\n",
      "{'activation': 'relu', 'alpha': 0.001, 'hidden_layer_sizes': 10, 'max_iter': 1000, 'solver': 'sgd'} Accuracy on training: 0.86362365209148 Accuracy on validation: 0.8677701674277015\n",
      "{'activation': 'relu', 'alpha': 0.001, 'hidden_layer_sizes': 10, 'max_iter': 1000, 'solver': 'adam'} Accuracy on training: 0.8932456452186278 Accuracy on validation: 0.8594748858447488\n",
      "{'activation': 'relu', 'alpha': 0.001, 'hidden_layer_sizes': 10, 'max_iter': 2000, 'solver': 'lbfgs'} Accuracy on training: 0.9634909349448988 Accuracy on validation: 0.8155251141552512\n",
      "{'activation': 'relu', 'alpha': 0.001, 'hidden_layer_sizes': 10, 'max_iter': 2000, 'solver': 'sgd'} Accuracy on training: 0.8732717146581347 Accuracy on validation: 0.8678843226788432\n",
      "{'activation': 'relu', 'alpha': 0.001, 'hidden_layer_sizes': 10, 'max_iter': 2000, 'solver': 'adam'} Accuracy on training: 0.8939447801872259 Accuracy on validation: 0.8705479452054794\n",
      "{'activation': 'relu', 'alpha': 0.001, 'hidden_layer_sizes': 100, 'max_iter': 100, 'solver': 'lbfgs'} Accuracy on training: 0.9641876999644508 Accuracy on validation: 0.8430365296803652\n",
      "{'activation': 'relu', 'alpha': 0.001, 'hidden_layer_sizes': 100, 'max_iter': 100, 'solver': 'sgd'} Accuracy on training: 0.7004100011849745 Accuracy on validation: 0.6721841704718418\n",
      "{'activation': 'relu', 'alpha': 0.001, 'hidden_layer_sizes': 100, 'max_iter': 100, 'solver': 'adam'} Accuracy on training: 0.8787865860883992 Accuracy on validation: 0.8787290715372909\n",
      "{'activation': 'relu', 'alpha': 0.001, 'hidden_layer_sizes': 100, 'max_iter': 500, 'solver': 'lbfgs'} Accuracy on training: 0.9993103448275862 Accuracy on validation: 0.8292237442922374\n",
      "{'activation': 'relu', 'alpha': 0.001, 'hidden_layer_sizes': 100, 'max_iter': 500, 'solver': 'sgd'} Accuracy on training: 0.8546818343405617 Accuracy on validation: 0.8457001522070016\n",
      "{'activation': 'relu', 'alpha': 0.001, 'hidden_layer_sizes': 100, 'max_iter': 500, 'solver': 'adam'} Accuracy on training: 0.9056499585258917 Accuracy on validation: 0.8789193302891933\n",
      "{'activation': 'relu', 'alpha': 0.001, 'hidden_layer_sizes': 100, 'max_iter': 1000, 'solver': 'lbfgs'} Accuracy on training: 0.997241379310345 Accuracy on validation: 0.8264840182648403\n",
      "{'activation': 'relu', 'alpha': 0.001, 'hidden_layer_sizes': 100, 'max_iter': 1000, 'solver': 'sgd'} Accuracy on training: 0.8718971442113995 Accuracy on validation: 0.8705479452054794\n",
      "{'activation': 'relu', 'alpha': 0.001, 'hidden_layer_sizes': 100, 'max_iter': 1000, 'solver': 'adam'} Accuracy on training: 0.9166702215902358 Accuracy on validation: 0.8761415525114156\n",
      "{'activation': 'relu', 'alpha': 0.001, 'hidden_layer_sizes': 100, 'max_iter': 2000, 'solver': 'lbfgs'} Accuracy on training: 1.0 Accuracy on validation: 0.8512937595129376\n",
      "{'activation': 'relu', 'alpha': 0.001, 'hidden_layer_sizes': 100, 'max_iter': 2000, 'solver': 'sgd'} Accuracy on training: 0.8712122289370778 Accuracy on validation: 0.867808219178082\n",
      "{'activation': 'relu', 'alpha': 0.001, 'hidden_layer_sizes': 100, 'max_iter': 2000, 'solver': 'adam'} Accuracy on training: 0.9242493186396492 Accuracy on validation: 0.8844368340943684\n"
     ]
    }
   ],
   "source": [
    "scores=grid.cv_results_\n",
    "\n",
    "for param,mean_train,mean_val in zip(scores['params'],scores['mean_train_score'],scores['mean_test_score']):\n",
    "            print(param, 'Accuracy on training:', mean_train, 'Accuracy on validation:', mean_val)"
   ]
  },
  {
   "cell_type": "code",
   "execution_count": 39,
   "id": "68b84b71",
   "metadata": {},
   "outputs": [
    {
     "name": "stdout",
     "output_type": "stream",
     "text": [
      "Average test accuracy: 0.8843226788432268\n",
      "Average test roc_auc: 0.9236919459141681\n",
      "Average test precision: 0.8730888596105988\n",
      "Average test f1: 0.8394969917756804\n",
      "Average test recall: 0.8187830687830688\n"
     ]
    }
   ],
   "source": [
    "from sklearn.model_selection import cross_validate\n",
    "\n",
    "metrics_to_calculate = ['accuracy', 'roc_auc', 'precision', 'f1','recall']\n",
    "\n",
    "mlp_scores = cross_validate(mlp_model_tuned, X_train, y_train, cv=5, scoring=metrics_to_calculate)\n",
    "print(\"Average test accuracy:\",np.mean(mlp_scores['test_accuracy']))\n",
    "print(\"Average test roc_auc:\",np.mean(mlp_scores['test_roc_auc']))\n",
    "print(\"Average test precision:\",np.mean(mlp_scores['test_precision']))\n",
    "print(\"Average test f1:\",np.mean(mlp_scores['test_f1']))                                         \n",
    "print(\"Average test recall:\",np.mean(mlp_scores['test_recall']))"
   ]
  },
  {
   "cell_type": "code",
   "execution_count": 40,
   "id": "1cbe3492",
   "metadata": {},
   "outputs": [
    {
     "name": "stdout",
     "output_type": "stream",
     "text": [
      "Average test accuracy: 0.8843607305936072\n",
      "Average test roc_auc: 0.9266637272192828\n",
      "Average test precision: 0.8704034391534391\n",
      "Average test f1: 0.8436952558801298\n",
      "Average test recall: 0.8261904761904763\n"
     ]
    }
   ],
   "source": [
    "metrics_to_calculate = ['accuracy', 'roc_auc', 'precision', 'f1','recall']\n",
    "\n",
    "rf_scores = cross_validate(rf_model_tuned, X_train, y_train, cv=5, scoring=metrics_to_calculate)\n",
    "print(\"Average test accuracy:\",np.mean(rf_scores['test_accuracy']))\n",
    "print(\"Average test roc_auc:\",np.mean(rf_scores['test_roc_auc']))\n",
    "print(\"Average test precision:\",np.mean(rf_scores['test_precision']))\n",
    "print(\"Average test f1:\",np.mean(rf_scores['test_f1']))                                         \n",
    "print(\"Average test recall:\",np.mean(rf_scores['test_recall']))"
   ]
  },
  {
   "cell_type": "code",
   "execution_count": 41,
   "id": "3709ef81",
   "metadata": {},
   "outputs": [
    {
     "name": "stdout",
     "output_type": "stream",
     "text": [
      "Average test accuracy: 0.8870243531202435\n",
      "Average test roc_auc: 0.9254497354497355\n",
      "Average test precision: 0.9202564581388112\n",
      "Average test f1: 0.8344929302376111\n",
      "Average test recall: 0.7751322751322751\n"
     ]
    }
   ],
   "source": [
    "metrics_to_calculate = ['accuracy', 'roc_auc', 'precision', 'f1','recall']\n",
    "\n",
    "log_scores = cross_validate(log_reg_tuned, X_train, y_train, cv=5, scoring=metrics_to_calculate)\n",
    "print(\"Average test accuracy:\",np.mean(log_scores['test_accuracy']))\n",
    "print(\"Average test roc_auc:\",np.mean(log_scores['test_roc_auc']))\n",
    "print(\"Average test precision:\",np.mean(log_scores['test_precision']))\n",
    "print(\"Average test f1:\",np.mean(log_scores['test_f1']))                                         \n",
    "print(\"Average test recall:\",np.mean(log_scores['test_recall']))"
   ]
  },
  {
   "cell_type": "code",
   "execution_count": 42,
   "id": "2b4cffe0",
   "metadata": {},
   "outputs": [
    {
     "ename": "SyntaxError",
     "evalue": "unexpected EOF while parsing (149104261.py, line 1)",
     "output_type": "error",
     "traceback": [
      "\u001b[1;36m  Input \u001b[1;32mIn [42]\u001b[1;36m\u001b[0m\n\u001b[1;33m    print(\u001b[0m\n\u001b[1;37m          ^\u001b[0m\n\u001b[1;31mSyntaxError\u001b[0m\u001b[1;31m:\u001b[0m unexpected EOF while parsing\n"
     ]
    }
   ],
   "source": [
    "print("
   ]
  },
  {
   "cell_type": "code",
   "execution_count": 43,
   "id": "0a6edee2",
   "metadata": {},
   "outputs": [
    {
     "data": {
      "text/plain": [
       "RandomForestClassifier(max_depth=3, max_features=6)"
      ]
     },
     "execution_count": 43,
     "metadata": {},
     "output_type": "execute_result"
    }
   ],
   "source": [
    "rf=RandomForestClassifier(max_depth=3, max_features=6)\n",
    "rf.fit(X_train,y_train)"
   ]
  },
  {
   "cell_type": "code",
   "execution_count": null,
   "id": "482a0177",
   "metadata": {},
   "outputs": [],
   "source": [
    "#Evaluation"
   ]
  },
  {
   "cell_type": "code",
   "execution_count": 44,
   "id": "5beb9332",
   "metadata": {},
   "outputs": [
    {
     "data": {
      "text/html": [
       "<div>\n",
       "<style scoped>\n",
       "    .dataframe tbody tr th:only-of-type {\n",
       "        vertical-align: middle;\n",
       "    }\n",
       "\n",
       "    .dataframe tbody tr th {\n",
       "        vertical-align: top;\n",
       "    }\n",
       "\n",
       "    .dataframe thead th {\n",
       "        text-align: right;\n",
       "    }\n",
       "</style>\n",
       "<table border=\"1\" class=\"dataframe\">\n",
       "  <thead>\n",
       "    <tr style=\"text-align: right;\">\n",
       "      <th></th>\n",
       "      <th>murkiness.level</th>\n",
       "      <th>avg.dolphins.seen.per.day</th>\n",
       "      <th>previous.week.fishing</th>\n",
       "      <th>diversity.of.prey</th>\n",
       "      <th>seals.seen</th>\n",
       "      <th>water.temp</th>\n",
       "      <th>people.previous.day</th>\n",
       "      <th>seagull.density</th>\n",
       "      <th>common.surfboard.colour</th>\n",
       "      <th>time.of.day</th>\n",
       "      <th>shark</th>\n",
       "    </tr>\n",
       "  </thead>\n",
       "  <tbody>\n",
       "    <tr>\n",
       "      <th>9</th>\n",
       "      <td>1990.200</td>\n",
       "      <td>2.957322</td>\n",
       "      <td>0.52800</td>\n",
       "      <td>14.66</td>\n",
       "      <td>6.449048</td>\n",
       "      <td>3.028106</td>\n",
       "      <td>58.0</td>\n",
       "      <td>0.58978</td>\n",
       "      <td>red</td>\n",
       "      <td>night</td>\n",
       "      <td>0</td>\n",
       "    </tr>\n",
       "    <tr>\n",
       "      <th>25</th>\n",
       "      <td>13.440</td>\n",
       "      <td>2.805519</td>\n",
       "      <td>0.52031</td>\n",
       "      <td>20.53</td>\n",
       "      <td>6.669371</td>\n",
       "      <td>3.051424</td>\n",
       "      <td>52.0</td>\n",
       "      <td>0.61120</td>\n",
       "      <td>red</td>\n",
       "      <td>night</td>\n",
       "      <td>1</td>\n",
       "    </tr>\n",
       "    <tr>\n",
       "      <th>28</th>\n",
       "      <td>10.480</td>\n",
       "      <td>2.901999</td>\n",
       "      <td>0.52218</td>\n",
       "      <td>20.77</td>\n",
       "      <td>6.087683</td>\n",
       "      <td>3.132738</td>\n",
       "      <td>64.0</td>\n",
       "      <td>0.59310</td>\n",
       "      <td>orange</td>\n",
       "      <td>night</td>\n",
       "      <td>0</td>\n",
       "    </tr>\n",
       "    <tr>\n",
       "      <th>31</th>\n",
       "      <td>9.667</td>\n",
       "      <td>2.800839</td>\n",
       "      <td>0.51514</td>\n",
       "      <td>22.73</td>\n",
       "      <td>5.953763</td>\n",
       "      <td>3.099798</td>\n",
       "      <td>NaN</td>\n",
       "      <td>0.56560</td>\n",
       "      <td>yellow</td>\n",
       "      <td>night</td>\n",
       "      <td>0</td>\n",
       "    </tr>\n",
       "    <tr>\n",
       "      <th>32</th>\n",
       "      <td>13.470</td>\n",
       "      <td>2.885120</td>\n",
       "      <td>0.55266</td>\n",
       "      <td>12.84</td>\n",
       "      <td>6.492543</td>\n",
       "      <td>3.156516</td>\n",
       "      <td>NaN</td>\n",
       "      <td>0.63350</td>\n",
       "      <td>orange</td>\n",
       "      <td>afternoon</td>\n",
       "      <td>0</td>\n",
       "    </tr>\n",
       "    <tr>\n",
       "      <th>...</th>\n",
       "      <td>...</td>\n",
       "      <td>...</td>\n",
       "      <td>...</td>\n",
       "      <td>...</td>\n",
       "      <td>...</td>\n",
       "      <td>...</td>\n",
       "      <td>...</td>\n",
       "      <td>...</td>\n",
       "      <td>...</td>\n",
       "      <td>...</td>\n",
       "      <td>...</td>\n",
       "    </tr>\n",
       "    <tr>\n",
       "      <th>424</th>\n",
       "      <td>12.460</td>\n",
       "      <td>3.508562</td>\n",
       "      <td>0.58543</td>\n",
       "      <td>23.94</td>\n",
       "      <td>6.567235</td>\n",
       "      <td>3.332022</td>\n",
       "      <td>267.0</td>\n",
       "      <td>0.72100</td>\n",
       "      <td>red</td>\n",
       "      <td>afternoon</td>\n",
       "      <td>1</td>\n",
       "    </tr>\n",
       "    <tr>\n",
       "      <th>427</th>\n",
       "      <td>19.530</td>\n",
       "      <td>3.068880</td>\n",
       "      <td>NaN</td>\n",
       "      <td>109.90</td>\n",
       "      <td>7.814803</td>\n",
       "      <td>3.161967</td>\n",
       "      <td>81.0</td>\n",
       "      <td>0.66250</td>\n",
       "      <td>orange</td>\n",
       "      <td>afternoon</td>\n",
       "      <td>1</td>\n",
       "    </tr>\n",
       "    <tr>\n",
       "      <th>440</th>\n",
       "      <td>17.990</td>\n",
       "      <td>3.088266</td>\n",
       "      <td>0.58824</td>\n",
       "      <td>49.81</td>\n",
       "      <td>7.207119</td>\n",
       "      <td>3.189119</td>\n",
       "      <td>75.0</td>\n",
       "      <td>0.69740</td>\n",
       "      <td>yellow</td>\n",
       "      <td>night</td>\n",
       "      <td>1</td>\n",
       "    </tr>\n",
       "    <tr>\n",
       "      <th>442</th>\n",
       "      <td>20.590</td>\n",
       "      <td>3.471485</td>\n",
       "      <td>0.61210</td>\n",
       "      <td>75.09</td>\n",
       "      <td>7.473069</td>\n",
       "      <td>3.182475</td>\n",
       "      <td>73.0</td>\n",
       "      <td>0.71130</td>\n",
       "      <td>orange</td>\n",
       "      <td>night</td>\n",
       "      <td>1</td>\n",
       "    </tr>\n",
       "    <tr>\n",
       "      <th>454</th>\n",
       "      <td>13.170</td>\n",
       "      <td>2.962686</td>\n",
       "      <td>0.55252</td>\n",
       "      <td>14.49</td>\n",
       "      <td>6.607596</td>\n",
       "      <td>3.196904</td>\n",
       "      <td>78.0</td>\n",
       "      <td>0.66070</td>\n",
       "      <td>red</td>\n",
       "      <td>night</td>\n",
       "      <td>1</td>\n",
       "    </tr>\n",
       "  </tbody>\n",
       "</table>\n",
       "<p>91 rows × 11 columns</p>\n",
       "</div>"
      ],
      "text/plain": [
       "     murkiness.level  avg.dolphins.seen.per.day  previous.week.fishing  \\\n",
       "9           1990.200                   2.957322                0.52800   \n",
       "25            13.440                   2.805519                0.52031   \n",
       "28            10.480                   2.901999                0.52218   \n",
       "31             9.667                   2.800839                0.51514   \n",
       "32            13.470                   2.885120                0.55266   \n",
       "..               ...                        ...                    ...   \n",
       "424           12.460                   3.508562                0.58543   \n",
       "427           19.530                   3.068880                    NaN   \n",
       "440           17.990                   3.088266                0.58824   \n",
       "442           20.590                   3.471485                0.61210   \n",
       "454           13.170                   2.962686                0.55252   \n",
       "\n",
       "     diversity.of.prey  seals.seen  water.temp  people.previous.day  \\\n",
       "9                14.66    6.449048    3.028106                 58.0   \n",
       "25               20.53    6.669371    3.051424                 52.0   \n",
       "28               20.77    6.087683    3.132738                 64.0   \n",
       "31               22.73    5.953763    3.099798                  NaN   \n",
       "32               12.84    6.492543    3.156516                  NaN   \n",
       "..                 ...         ...         ...                  ...   \n",
       "424              23.94    6.567235    3.332022                267.0   \n",
       "427             109.90    7.814803    3.161967                 81.0   \n",
       "440              49.81    7.207119    3.189119                 75.0   \n",
       "442              75.09    7.473069    3.182475                 73.0   \n",
       "454              14.49    6.607596    3.196904                 78.0   \n",
       "\n",
       "     seagull.density common.surfboard.colour time.of.day  shark  \n",
       "9            0.58978                     red       night      0  \n",
       "25           0.61120                     red       night      1  \n",
       "28           0.59310                  orange       night      0  \n",
       "31           0.56560                  yellow       night      0  \n",
       "32           0.63350                  orange   afternoon      0  \n",
       "..               ...                     ...         ...    ...  \n",
       "424          0.72100                     red   afternoon      1  \n",
       "427          0.66250                  orange   afternoon      1  \n",
       "440          0.69740                  yellow       night      1  \n",
       "442          0.71130                  orange       night      1  \n",
       "454          0.66070                     red       night      1  \n",
       "\n",
       "[91 rows x 11 columns]"
      ]
     },
     "execution_count": 44,
     "metadata": {},
     "output_type": "execute_result"
    }
   ],
   "source": [
    "df_test"
   ]
  },
  {
   "cell_type": "code",
   "execution_count": 45,
   "id": "d3ee44bf",
   "metadata": {},
   "outputs": [
    {
     "data": {
      "text/plain": [
       "(91, 11)"
      ]
     },
     "execution_count": 45,
     "metadata": {},
     "output_type": "execute_result"
    }
   ],
   "source": [
    "df_test.shape"
   ]
  },
  {
   "cell_type": "code",
   "execution_count": 46,
   "id": "50b8ccb9",
   "metadata": {},
   "outputs": [
    {
     "data": {
      "text/plain": [
       "251    158.7\n",
       "243    153.4\n",
       "323    112.4\n",
       "376    111.4\n",
       "427    109.9\n",
       "Name: diversity.of.prey, dtype: float64"
      ]
     },
     "execution_count": 46,
     "metadata": {},
     "output_type": "execute_result"
    }
   ],
   "source": [
    "df_test['diversity.of.prey'].nlargest()"
   ]
  },
  {
   "cell_type": "code",
   "execution_count": 47,
   "id": "6b49c58c",
   "metadata": {},
   "outputs": [],
   "source": [
    "df_test['time.of.day'] = df_test['time.of.day'].replace({'morni7ng':'morning'})\n",
    "df_test['common.surfboard.colour'] = df_test['common.surfboard.colour'].replace({'yyellow':'yellow'})\n",
    "df_test['diversity.of.prey'].nlargest()\n",
    "\n",
    "#df_test.drop(143, axis=0, inplace=True)\n",
    "#df_test.drop(161,axis=0,inplace=True)\n",
    "\n",
    "median=df_test['people.previous.day'].median()\n",
    "df_test['people.previous.day']=df_test['people.previous.day'].replace(np.nan,median)\n",
    "\n",
    "median=df_test['avg.dolphins.seen.per.day'].median()\n",
    "df_test['avg.dolphins.seen.per.day']=df_test['avg.dolphins.seen.per.day'].replace(np.nan,median)\n",
    "\n",
    "median=df_test['previous.week.fishing'].median()\n",
    "df_test['previous.week.fishing']=df_test['previous.week.fishing'].replace(np.nan,median)\n",
    "\n",
    "median=df_test['diversity.of.prey'].median()\n",
    "df_test['diversity.of.prey']=df_test['diversity.of.prey'].replace(np.nan,median)\n",
    "\n",
    "median=df_test['water.temp'].median()\n",
    "df_test['water.temp']=df_test['water.temp'].replace(np.nan,median)\n",
    "\n",
    "df_test = pd.get_dummies(df_test, prefix_sep='_', drop_first=True)\n",
    "df_test\n",
    "\n",
    "feature_names=df_test.columns[df_test.columns != 'shark']\n",
    "X_test=df_test[feature_names].values\n",
    "y_test=df_test['shark'].values\n",
    "\n",
    "X_test = mm_scaler.transform(X_test)"
   ]
  },
  {
   "cell_type": "code",
   "execution_count": 48,
   "id": "75906636",
   "metadata": {},
   "outputs": [
    {
     "data": {
      "text/plain": [
       "array([[1.        , 0.12510331, 0.13916501, ..., 0.        , 0.        ,\n",
       "        1.        ],\n",
       "       [0.00288075, 0.04565632, 0.10094433, ..., 0.        , 0.        ,\n",
       "        1.        ],\n",
       "       [0.00138766, 0.09614939, 0.11023857, ..., 0.        , 0.        ,\n",
       "        1.        ],\n",
       "       ...,\n",
       "       [0.00517586, 0.19363343, 0.43856859, ..., 1.        , 0.        ,\n",
       "        1.        ],\n",
       "       [0.00648736, 0.39419371, 0.55715706, ..., 0.        , 0.        ,\n",
       "        1.        ],\n",
       "       [0.00274455, 0.12791076, 0.2610338 , ..., 0.        , 0.        ,\n",
       "        1.        ]])"
      ]
     },
     "execution_count": 48,
     "metadata": {},
     "output_type": "execute_result"
    }
   ],
   "source": [
    "X_test"
   ]
  },
  {
   "cell_type": "code",
   "execution_count": 49,
   "id": "7b29198c",
   "metadata": {},
   "outputs": [
    {
     "data": {
      "text/plain": [
       "array([0, 1, 0, 0, 0, 0, 0, 0, 0, 0, 0, 0, 0, 0, 1, 0, 0, 0, 1, 0, 0, 0,\n",
       "       1, 0, 0, 0, 0, 1, 0, 0, 1, 1, 0, 0, 0, 0, 1, 0, 0, 0, 0, 1, 0, 0,\n",
       "       0, 1, 1, 1, 1, 1, 0, 1, 0, 0, 0, 0, 1, 0, 0, 1, 0, 1, 0, 0, 0, 0,\n",
       "       0, 0, 0, 0, 0, 0, 1, 0, 1, 0, 0, 1, 1, 1, 0, 0, 0, 0, 0, 0, 1, 1,\n",
       "       1, 1, 1], dtype=int64)"
      ]
     },
     "execution_count": 49,
     "metadata": {},
     "output_type": "execute_result"
    }
   ],
   "source": [
    "y_test"
   ]
  },
  {
   "cell_type": "code",
   "execution_count": 50,
   "id": "c58fae18",
   "metadata": {},
   "outputs": [
    {
     "data": {
      "text/plain": [
       "array([0, 0, 0, 0, 0, 0, 0, 0, 0, 0, 0, 1, 0, 0, 1, 0, 1, 0, 1, 0, 0, 0,\n",
       "       1, 0, 0, 0, 0, 1, 0, 0, 1, 1, 0, 0, 0, 0, 1, 0, 0, 0, 0, 1, 0, 0,\n",
       "       0, 1, 1, 1, 1, 0, 0, 1, 0, 0, 0, 0, 1, 0, 0, 0, 1, 1, 0, 1, 0, 0,\n",
       "       0, 0, 0, 0, 0, 0, 1, 0, 1, 0, 0, 1, 1, 1, 0, 0, 0, 0, 0, 0, 1, 1,\n",
       "       1, 1, 0], dtype=int64)"
      ]
     },
     "execution_count": 50,
     "metadata": {},
     "output_type": "execute_result"
    }
   ],
   "source": [
    "y_pred = rf.predict(X_test)\n",
    "y_pred"
   ]
  },
  {
   "cell_type": "code",
   "execution_count": 51,
   "id": "e2e35962",
   "metadata": {},
   "outputs": [
    {
     "data": {
      "text/plain": [
       "array([[59,  4],\n",
       "       [ 4, 24]], dtype=int64)"
      ]
     },
     "execution_count": 51,
     "metadata": {},
     "output_type": "execute_result"
    }
   ],
   "source": [
    "from sklearn.metrics import confusion_matrix\n",
    "\n",
    "matrix = confusion_matrix(y_test, y_pred,labels = rf.classes_)\n",
    "matrix\n",
    "\n",
    "# Notes:\n",
    "# rf.classes_ gives array([0, 1], dtype=int64)"
   ]
  },
  {
   "cell_type": "code",
   "execution_count": 52,
   "id": "f09e7fa6",
   "metadata": {},
   "outputs": [
    {
     "data": {
      "text/plain": [
       "<sklearn.metrics._plot.confusion_matrix.ConfusionMatrixDisplay at 0x1d4e9946100>"
      ]
     },
     "execution_count": 52,
     "metadata": {},
     "output_type": "execute_result"
    },
    {
     "data": {
      "image/png": "[encoded data removed]",
      "text/plain": [
       "<Figure size 432x288 with 2 Axes>"
      ]
     },
     "metadata": {
      "needs_background": "light"
     },
     "output_type": "display_data"
    }
   ],
   "source": [
    "from sklearn.metrics import ConfusionMatrixDisplay\n",
    "\n",
    "matrix2 = ConfusionMatrixDisplay(matrix, display_labels = rf.classes_)\n",
    "matrix2.plot()"
   ]
  },
  {
   "cell_type": "code",
   "execution_count": 53,
   "id": "968250b1",
   "metadata": {},
   "outputs": [
    {
     "name": "stdout",
     "output_type": "stream",
     "text": [
      "              precision    recall  f1-score   support\n",
      "\n",
      "           0       0.94      0.94      0.94        63\n",
      "           1       0.86      0.86      0.86        28\n",
      "\n",
      "    accuracy                           0.91        91\n",
      "   macro avg       0.90      0.90      0.90        91\n",
      "weighted avg       0.91      0.91      0.91        91\n",
      "\n"
     ]
    }
   ],
   "source": [
    "from sklearn.metrics import classification_report\n",
    "\n",
    "print (classification_report(y_test, y_pred))\n",
    "\n",
    "# https://aigraduate.com/understanding-ml-evaluation-metrics---precision---recall/"
   ]
  },
  {
   "cell_type": "code",
   "execution_count": 54,
   "id": "86ddd87d",
   "metadata": {},
   "outputs": [
    {
     "data": {
      "text/plain": [
       "0.9120879120879121"
      ]
     },
     "execution_count": 54,
     "metadata": {},
     "output_type": "execute_result"
    }
   ],
   "source": [
    "from sklearn.metrics import f1_score\n",
    "\n",
    "f1_score(y_test, y_pred, average='weighted') "
   ]
  },
  {
   "cell_type": "code",
   "execution_count": 55,
   "id": "0506b342",
   "metadata": {},
   "outputs": [
    {
     "name": "stdout",
     "output_type": "stream",
     "text": [
      "Test set Accuracy:  0.9120879120879121\n"
     ]
    }
   ],
   "source": [
    "from sklearn import metrics\n",
    "\n",
    "print(\"Test set Accuracy: \", metrics.accuracy_score(y_test, y_pred))\n",
    "\n",
    "#In multilabel classification, accuracy classification score is a function that computes subset accuracy. \n",
    "#This function is equal to the jaccard_score function. \n",
    "#Essentially, it calculates how closely the actual labels and predicted labels are matched in the test set."
   ]
  },
  {
   "cell_type": "code",
   "execution_count": 56,
   "id": "58463e38",
   "metadata": {},
   "outputs": [],
   "source": [
    "from sklearn.metrics import roc_curve\n",
    "\n",
    "fpr, tpr, _ = roc_curve(y_test, y_pred, pos_label=rf.classes_[1])"
   ]
  },
  {
   "cell_type": "code",
   "execution_count": 57,
   "id": "17a89557",
   "metadata": {},
   "outputs": [
    {
     "data": {
      "image/png": "[encoded data removed]",
      "text/plain": [
       "<Figure size 432x288 with 1 Axes>"
      ]
     },
     "metadata": {
      "needs_background": "light"
     },
     "output_type": "display_data"
    }
   ],
   "source": [
    "from sklearn.metrics import RocCurveDisplay\n",
    "\n",
    "roc_display = RocCurveDisplay(fpr=fpr, tpr=tpr).plot()\n",
    "\n",
    "# https://scikit-learn.org/stable/auto_examples/miscellaneous/plot_display_object_visualization.html#sphx-glr-auto-examples-miscellaneous-plot-display-object-visualization-py"
   ]
  }
 ],
 "metadata": {
  "kernelspec": {
   "display_name": "Python 3 (ipykernel)",
   "language": "python",
   "name": "python3"
  },
  "language_info": {
   "codemirror_mode": {
    "name": "ipython",
    "version": 3
   },
   "file_extension": ".py",
   "mimetype": "text/x-python",
   "name": "python",
   "nbconvert_exporter": "python",
   "pygments_lexer": "ipython3",
   "version": "3.9.12"
  }
 },
 "nbformat": 4,
 "nbformat_minor": 5
}
